{
  "nbformat": 4,
  "nbformat_minor": 0,
  "metadata": {
    "colab": {
      "provenance": [],
      "authorship_tag": "ABX9TyPJNOJO4rgPYDawleCw/g9w",
      "include_colab_link": true
    },
    "kernelspec": {
      "name": "python3",
      "display_name": "Python 3"
    },
    "language_info": {
      "name": "python"
    }
  },
  "cells": [
    {
      "cell_type": "markdown",
      "metadata": {
        "id": "view-in-github",
        "colab_type": "text"
      },
      "source": [
        "<a href=\"https://colab.research.google.com/github/leah108/bioinfomatics/blob/main/test4.ipynb\" target=\"_parent\"><img src=\"https://colab.research.google.com/assets/colab-badge.svg\" alt=\"Open In Colab\"/></a>"
      ]
    },
    {
      "cell_type": "markdown",
      "source": [
        "# 나의 네번째 파이썬 코드\n",
        "## 코랩에서 작성된  코드\n",
        "### 간단한 사칙연산 출력\n",
        "\n",
        "--\n",
        "\n",
        "\n",
        "\n",
        "\n",
        "1. 항목 추가\n",
        "2. 항목 추가"
      ],
      "metadata": {
        "id": "M6d2h3Sp98-G"
      }
    },
    {
      "cell_type": "code",
      "execution_count": 4,
      "metadata": {
        "colab": {
          "base_uri": "https://localhost:8080/"
        },
        "id": "81HnzFmU9dy5",
        "outputId": "8b67976d-c700-4536-b614-e94287d95ee4"
      },
      "outputs": [
        {
          "output_type": "stream",
          "name": "stdout",
          "text": [
            "600\n",
            "600\n",
            "600\n",
            "-400\n",
            "50000\n",
            "0.2\n"
          ]
        }
      ],
      "source": [
        "print(100 + 500)\n",
        "print(100 - 500)\n",
        "print(100 * 500)\n",
        "print(100 / 500)"
      ]
    },
    {
      "cell_type": "code",
      "source": [
        "import sys\n",
        "print('나의 네 번째 파이썬 프로그램!')\n",
        "print(sys.version)"
      ],
      "metadata": {
        "colab": {
          "base_uri": "https://localhost:8080/"
        },
        "id": "FguQS0CW-0w6",
        "outputId": "886cf507-1927-4fa1-96c3-25de369060b2"
      },
      "execution_count": 3,
      "outputs": [
        {
          "output_type": "stream",
          "name": "stdout",
          "text": [
            "나의 네 번째 파이썬 프로그램!\n",
            "3.10.12 (main, Jun 11 2023, 05:26:28) [GCC 11.4.0]\n"
          ]
        }
      ]
    }
  ]
}