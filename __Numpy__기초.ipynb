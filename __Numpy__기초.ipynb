{
  "nbformat": 4,
  "nbformat_minor": 0,
  "metadata": {
    "colab": {
      "provenance": [],
      "toc_visible": true,
      "include_colab_link": true
    },
    "kernelspec": {
      "name": "python3",
      "display_name": "Python 3"
    },
    "language_info": {
      "name": "python"
    }
  },
  "cells": [
    {
      "cell_type": "markdown",
      "metadata": {
        "id": "view-in-github",
        "colab_type": "text"
      },
      "source": [
        "<a href=\"https://colab.research.google.com/github/leah108/bioinfomatics/blob/main/__Numpy__%EA%B8%B0%EC%B4%88.ipynb\" target=\"_parent\"><img src=\"https://colab.research.google.com/assets/colab-badge.svg\" alt=\"Open In Colab\"/></a>"
      ]
    },
    {
      "cell_type": "markdown",
      "source": [
        "\n",
        "1. **Numpy**\n",
        "\n",
        "2. **np.array()**\n",
        "\n",
        "  1) ndarray의 데이터 타입\n",
        "\n",
        "  2) ndarray를 편리하게 생성하기\n",
        "\n",
        "3.  **차원과 크기 변경: reshape()**\n",
        "\n",
        "4.  **데이터 세트 선택하기 - 인덱싱(Indexing)**\n",
        "\n",
        "5. **행렬의 정렬 - sort()와 argsort()**\n",
        "\n",
        "6. **선형대수 연산 - 행렬 내적과 전치 행렬 구하기**\n",
        "\n",
        "7. **배열 간 사칙연산**\n",
        "\n",
        "8. **Broadcasting**\n",
        "\n",
        "9. **집계(Aggregation)**\n",
        "\n",
        "  1) 합계\n",
        "\n",
        "  2) 평균\n",
        "\n",
        "  3) 곱셈\n",
        "\n",
        "  4) 최댓값과 최솟값\n",
        "\n",
        "  5) 표준편차와 분산\n"
      ],
      "metadata": {
        "id": "m8MtFY4im7Eg"
      }
    },
    {
      "cell_type": "markdown",
      "source": [
        "<div><span>"
      ],
      "metadata": {
        "id": "Tr-D3iAYn8Wt"
      }
    },
    {
      "cell_type": "markdown",
      "source": [
        "\n",
        "\n",
        "---\n",
        "\n"
      ],
      "metadata": {
        "id": "PXTmJWXAfI6P"
      }
    },
    {
      "cell_type": "markdown",
      "source": [
        "## **1. Numpy**"
      ],
      "metadata": {
        "id": "j4O3-2SYmjHA"
      }
    },
    {
      "cell_type": "markdown",
      "source": [
        "선형대수는 머신러닝 주요 알고리즘 중 하나입니다.\n",
        "<br/>넘파이는 파이썬에서 선형대수 기반 프로그램을 가능하게 하는 대표적인 패키지이며 빠른 계산과 배열 연산 능력을 보장합니다."
      ],
      "metadata": {
        "id": "LNIbwJt0ca6z"
      }
    },
    {
      "cell_type": "markdown",
      "source": [
        "수행 성능이 중요시될 때는 C/C++ 기반의 코드를 넘파이에서 호출하여 쉽게 통합할 수도 있습니다.\n",
        "<br/> 딥러닝 프레임워크인 텐서플로가 앞서 말한 방식으로 작성됐습니다."
      ],
      "metadata": {
        "id": "FvnFcCaTfZGo"
      }
    },
    {
      "cell_type": "markdown",
      "source": [
        "넘파이는 다양한 데이터 핸들링 기능도 제공하지만 데이터 처리 패키지인 판다스의 편리성은 따라가지 못합니다.\n",
        "<br/> 그러나 많은 머신러닝 알고리즘이 넘파이를 기반으로 하기 때문에 넘파이에 익숙해지는 것이 매우 중요합니다."
      ],
      "metadata": {
        "id": "YElQBKAZeQPb"
      }
    },
    {
      "cell_type": "markdown",
      "source": [
        "ㅤ"
      ],
      "metadata": {
        "id": "w9jjVOmoEivl"
      }
    },
    {
      "cell_type": "code",
      "source": [
        "import numpy as np"
      ],
      "metadata": {
        "id": "Cs2YJVO4mpAS"
      },
      "execution_count": 4,
      "outputs": []
    },
    {
      "cell_type": "code",
      "source": [
        "data = [1,2,3,4]\n",
        "result = []\n",
        "\n",
        "for i in data:\n",
        "  result.append(i*10)\n",
        "print(result, type(result))"
      ],
      "metadata": {
        "colab": {
          "base_uri": "https://localhost:8080/"
        },
        "id": "ufDOA_RvBnt2",
        "outputId": "448ac15d-844c-4aad-8a98-4dfc5dc6dbf7"
      },
      "execution_count": 2,
      "outputs": [
        {
          "output_type": "stream",
          "name": "stdout",
          "text": [
            "[10, 20, 30, 40] <class 'list'>\n"
          ]
        }
      ]
    },
    {
      "cell_type": "code",
      "source": [
        "# numpy를 이용해서 10씩 곱하기\n",
        "arr = np.array(data)\n",
        "\n",
        "arr10 = arr*10\n",
        "print(arr10, type(arr10))"
      ],
      "metadata": {
        "colab": {
          "base_uri": "https://localhost:8080/"
        },
        "id": "FEVuYMoiB-Ev",
        "outputId": "dbca4b06-6a2a-4701-c388-c04a1ab8a8ee"
      },
      "execution_count": 6,
      "outputs": [
        {
          "output_type": "stream",
          "name": "stdout",
          "text": [
            "[10 20 30 40] <class 'numpy.ndarray'>\n"
          ]
        }
      ]
    },
    {
      "cell_type": "markdown",
      "source": [
        "ㅤ"
      ],
      "metadata": {
        "id": "JiM99u3ieQAc"
      }
    },
    {
      "cell_type": "markdown",
      "source": [
        "## **2. np.array()**\n",
        "\n",
        "*   리스트와 같은 다양한 인자를 입력 받아서 ndarray로 변환하는 기능을 수행합니다.\n",
        "*   .shape로 배열의 모양을 확인할 수 있으며 ndarray의 행과 열의 수를 튜플 형태로 가집니다.\n",
        "*   대괄호[] 중첩으로 배열이 증가합니다.\n",
        "\n",
        "\n",
        "\n",
        "\n"
      ],
      "metadata": {
        "id": "lWh8o8ypm5Ot"
      }
    },
    {
      "cell_type": "code",
      "source": [
        "# 1차원 배열\n",
        "배열1 = np.array([1,2,3])\n",
        "print(배열1)\n",
        "print(배열1.shape)  #3열"
      ],
      "metadata": {
        "colab": {
          "base_uri": "https://localhost:8080/"
        },
        "id": "BWj0BnOaG7Qt",
        "outputId": "bb73cb6f-1603-45fc-a64c-9c5e11ad9017"
      },
      "execution_count": 7,
      "outputs": [
        {
          "output_type": "stream",
          "name": "stdout",
          "text": [
            "[1 2 3]\n",
            "(3,)\n"
          ]
        }
      ]
    },
    {
      "cell_type": "code",
      "source": [
        "# 2차원 배열\n",
        "배열2 = np.array([[1,2,3],[4,5,6]])\n",
        "print(배열2)\n",
        "print(배열2.shape)  # 2행에 3열"
      ],
      "metadata": {
        "colab": {
          "base_uri": "https://localhost:8080/"
        },
        "id": "BdA-T3RhH-nJ",
        "outputId": "cb596e0c-a2e1-4684-cfea-2cb18b7166aa"
      },
      "execution_count": 8,
      "outputs": [
        {
          "output_type": "stream",
          "name": "stdout",
          "text": [
            "[[1 2 3]\n",
            " [4 5 6]]\n",
            "(2, 3)\n"
          ]
        }
      ]
    },
    {
      "cell_type": "code",
      "source": [
        "# 3차원 배열\n",
        "배열3 = np.array([[[1,2,3],[4,5,6],[7,8,9]]])\n",
        "print(배열3)\n",
        "print(배열3.shape)  #3행에 3열이 한겹 있음"
      ],
      "metadata": {
        "colab": {
          "base_uri": "https://localhost:8080/"
        },
        "id": "XsK3dVd1IYi0",
        "outputId": "11bf4d8d-92a1-4d60-adce-01b67e712306"
      },
      "execution_count": 10,
      "outputs": [
        {
          "output_type": "stream",
          "name": "stdout",
          "text": [
            "[[[1 2 3]\n",
            "  [4 5 6]\n",
            "  [7 8 9]]]\n",
            "(1, 3, 3)\n"
          ]
        }
      ]
    },
    {
      "cell_type": "markdown",
      "source": [
        "ㅤ"
      ],
      "metadata": {
        "id": "8SKfQy9ieQ8D"
      }
    },
    {
      "cell_type": "markdown",
      "source": [
        "ㅤ"
      ],
      "metadata": {
        "id": "82xE1uF0eTjk"
      }
    },
    {
      "cell_type": "markdown",
      "source": [
        "### **1) ndarray의 데이터 타입**\n",
        "\n",
        "\n",
        "\n",
        "\n"
      ],
      "metadata": {
        "id": "9gskT0Xlxem9"
      }
    },
    {
      "cell_type": "markdown",
      "source": [
        "숫자값, 문자열 값, bool 값 등이 모두 가능합니다."
      ],
      "metadata": {
        "id": "t8vACAuNyMpy"
      }
    },
    {
      "cell_type": "markdown",
      "source": [
        "연산의 특성상 같은 데이터 타입만 가능합니다. 즉, 한 개의 ndarray 객체에 int와 float가 함께 있을 수 없습니다."
      ],
      "metadata": {
        "id": "NH8Dr7yeyYYY"
      }
    },
    {
      "cell_type": "markdown",
      "source": [
        "dtype으로 데이터 타입 속성을 확인 할 수 있습니다."
      ],
      "metadata": {
        "id": "PcFMzR_lyppz"
      }
    },
    {
      "cell_type": "code",
      "source": [
        "list1 = [1.5,2.4,3.7]\n",
        "print(type(list1))\n",
        "\n",
        "array1 = np.array(list1)\n",
        "print(type(array1))\n",
        "print(array1, array1.dtype)"
      ],
      "metadata": {
        "colab": {
          "base_uri": "https://localhost:8080/"
        },
        "id": "pXzi7CGsJav0",
        "outputId": "3afeeb5a-1c6a-441e-b589-1e136b7d31ae"
      },
      "execution_count": 14,
      "outputs": [
        {
          "output_type": "stream",
          "name": "stdout",
          "text": [
            "<class 'list'>\n",
            "<class 'numpy.ndarray'>\n",
            "[1.5 2.4 3.7] float64\n"
          ]
        }
      ]
    },
    {
      "cell_type": "code",
      "source": [
        "list2 = [1,2,'t']\n",
        "arr2 = np.array(list2)\n",
        "print(arr2, arr2.dtype)  # <U21 : 유니코드 21"
      ],
      "metadata": {
        "colab": {
          "base_uri": "https://localhost:8080/"
        },
        "id": "szjCXLOeJ6AF",
        "outputId": "8e96027e-71dc-4508-fa59-649b59e64690"
      },
      "execution_count": 15,
      "outputs": [
        {
          "output_type": "stream",
          "name": "stdout",
          "text": [
            "['1' '2' 't'] <U21\n"
          ]
        }
      ]
    },
    {
      "cell_type": "code",
      "source": [
        "list2 = [1,2,3.5,4]\n",
        "arr2 = np.array(list2)\n",
        "print(arr2, arr2.dtype)"
      ],
      "metadata": {
        "colab": {
          "base_uri": "https://localhost:8080/"
        },
        "id": "ZChKa67HKlRk",
        "outputId": "97dcf1a6-c6fb-46d8-f608-f9799e393322"
      },
      "execution_count": 16,
      "outputs": [
        {
          "output_type": "stream",
          "name": "stdout",
          "text": [
            "[1.  2.  3.5 4. ] float64\n"
          ]
        }
      ]
    },
    {
      "cell_type": "code",
      "source": [
        "list3 = [2.3,1.5,'t']\n",
        "arr3 = np.array(list3)\n",
        "print(arr3, arr3.dtype). # 문자형 > 실수형 > 정수형"
      ],
      "metadata": {
        "colab": {
          "base_uri": "https://localhost:8080/"
        },
        "id": "mMM1iJVAKvcF",
        "outputId": "01ae06db-754e-4c50-f463-eadca21dc01f"
      },
      "execution_count": 17,
      "outputs": [
        {
          "output_type": "stream",
          "name": "stdout",
          "text": [
            "['2.3' '1.5' 't'] <U32\n"
          ]
        }
      ]
    },
    {
      "cell_type": "markdown",
      "source": [
        "ㅤ"
      ],
      "metadata": {
        "id": "GnYoHdK3eVHs"
      }
    },
    {
      "cell_type": "markdown",
      "source": [
        "* 서로 다른 데이터 타입이 섞여 있을 경우 데이터 타입이 더 큰 데이터 타입으로 변환됩니다.\n",
        "* 사용하는 아키텍처에 따라 지정되기 때문에\n",
        "int64비트가 기본으로 설정\n",
        "\n",
        "\n",
        "> int형: 8bit, 16bit, 32bit\n",
        "\n",
        "\n",
        "> unsigned int형: 8bit, 16bit, 32bit\n",
        "\n",
        "\n",
        "> float형: 16bit, 32bit, 64bit, 128bit\n",
        "\n",
        "\n",
        "\n",
        "\n",
        "\n",
        "\n",
        "\n",
        "\n",
        "\n"
      ],
      "metadata": {
        "id": "7XuUrUR31N51"
      }
    },
    {
      "cell_type": "markdown",
      "source": [
        "ㅤ"
      ],
      "metadata": {
        "id": "8jvtA_SBeXGA"
      }
    },
    {
      "cell_type": "markdown",
      "source": [
        "* int8 ( -128 ~ 127 )\n",
        "* int16 ( -32768 ~ 32767 )\n",
        "* int32 ( -2147483648 ~ 2147483647 )"
      ],
      "metadata": {
        "id": "lG_S_DkGpQY-"
      }
    },
    {
      "cell_type": "markdown",
      "source": [
        "메모리를 절약해야 할 때 astype()을 사용하여 ndarray 내 데이터값의 타입을 변경할 수 있습니다."
      ],
      "metadata": {
        "id": "hkQHjmT_2mG8"
      }
    },
    {
      "cell_type": "markdown",
      "source": [
        "ㅤ"
      ],
      "metadata": {
        "id": "LRMPWLhLeYWi"
      }
    },
    {
      "cell_type": "markdown",
      "source": [
        "### **2) ndarray를 편리하게 생성하기**\n"
      ],
      "metadata": {
        "id": "WwpZVu7Q3kQ7"
      }
    },
    {
      "cell_type": "markdown",
      "source": [
        "**[ arange() ]**"
      ],
      "metadata": {
        "id": "LjHxuwbKff1J"
      }
    },
    {
      "cell_type": "markdown",
      "source": [
        "arange()는 표준 함수 range()와 유사,\n",
        "데이터 타입 지정하지 않으면 넘파이가 가장 적절한 타입으로 지정.\n",
        "~~~\n",
        "np.arange( 시작번호, 끝번호(포함X), 간격, dtype=데이터타입 )\n",
        "~~~"
      ],
      "metadata": {
        "id": "1Fxatu863uN3"
      }
    },
    {
      "cell_type": "markdown",
      "source": [
        "0부터 함수 인자 값 -1까지의 값을 순차적으로 ndarray의 데이터값으로 변환합니다."
      ],
      "metadata": {
        "id": "umcifAMn4ryG"
      }
    },
    {
      "cell_type": "code",
      "source": [
        "seq_arr = np.arange(10)\n",
        "print(seq_arr)"
      ],
      "metadata": {
        "colab": {
          "base_uri": "https://localhost:8080/"
        },
        "id": "oDpOAEACLo_J",
        "outputId": "84cc8717-782c-458e-9592-3e9d99d3a84e"
      },
      "execution_count": 20,
      "outputs": [
        {
          "output_type": "stream",
          "name": "stdout",
          "text": [
            "[0 1 2 3 4 5 6 7 8 9]\n"
          ]
        }
      ]
    },
    {
      "cell_type": "markdown",
      "source": [
        "**[ linspace() ]**\n",
        "\n",
        "범위를 정해주고 정해진 수만큼 분할된 수열 생성"
      ],
      "metadata": {
        "id": "Tn8clfLzrhzH"
      }
    },
    {
      "cell_type": "markdown",
      "source": [
        "~~~\n",
        "np.linspace( 시작번호, 끝번호(포함), 나눌갯수, dtype=데이터타입 )\n",
        "~~~\n",
        "기본 값 실수, arange와 다른점을 끝번호를 포함하여 생성"
      ],
      "metadata": {
        "id": "Rbzer6z6roLt"
      }
    },
    {
      "cell_type": "code",
      "source": [
        "seq_arr = np.linspace(1,100,5,dtype = np.int32)\n",
        "print(seq_arr, seq_arr.dtype)"
      ],
      "metadata": {
        "colab": {
          "base_uri": "https://localhost:8080/"
        },
        "id": "W7-IMNMHMWaY",
        "outputId": "0694fb31-48a1-4de2-f07a-95be73790424"
      },
      "execution_count": 22,
      "outputs": [
        {
          "output_type": "stream",
          "name": "stdout",
          "text": [
            "[  1  25  50  75 100] int32\n"
          ]
        }
      ]
    },
    {
      "cell_type": "code",
      "source": [
        "seq_arr = np.linspace(1,90,3,dtype = np.int16)\n",
        "print(seq_arr, seq_arr.dtype)"
      ],
      "metadata": {
        "colab": {
          "base_uri": "https://localhost:8080/"
        },
        "id": "CAlML1FCMrNk",
        "outputId": "29fda4e5-a607-4b00-d356-e089f96fc057"
      },
      "execution_count": 23,
      "outputs": [
        {
          "output_type": "stream",
          "name": "stdout",
          "text": [
            "[ 1 45 90] int16\n"
          ]
        }
      ]
    },
    {
      "cell_type": "markdown",
      "source": [
        "ㅤ"
      ],
      "metadata": {
        "id": "e4T6VFEEeaRu"
      }
    },
    {
      "cell_type": "markdown",
      "source": [
        "**[ zeros() ]**"
      ],
      "metadata": {
        "id": "0T1upwBKgASw"
      }
    },
    {
      "cell_type": "markdown",
      "source": [
        "zeros()는 모든 값을 0으로 채운 배열을 만듭니다."
      ],
      "metadata": {
        "id": "THThhjM34uyI"
      }
    },
    {
      "cell_type": "code",
      "source": [
        "zeros = np.zeros(10,dtype = np.int8)\n",
        "print(zeros, zeros.dtype)"
      ],
      "metadata": {
        "colab": {
          "base_uri": "https://localhost:8080/"
        },
        "id": "k8hN_7PgNQ-t",
        "outputId": "0908e645-9952-42e8-875e-6423c739c816"
      },
      "execution_count": 27,
      "outputs": [
        {
          "output_type": "stream",
          "name": "stdout",
          "text": [
            "[0 0 0 0 0 0 0 0 0 0] int8\n"
          ]
        }
      ]
    },
    {
      "cell_type": "markdown",
      "source": [
        "ㅤ"
      ],
      "metadata": {
        "id": "BKe_LmKFecVp"
      }
    },
    {
      "cell_type": "markdown",
      "source": [
        "**[ ones() ]**"
      ],
      "metadata": {
        "id": "FphezyjhgDfO"
      }
    },
    {
      "cell_type": "markdown",
      "source": [
        "ones()는 모든 값을 1로 채운 배열을 만듭니다."
      ],
      "metadata": {
        "id": "DThhde6O5lgB"
      }
    },
    {
      "cell_type": "markdown",
      "source": [
        "ㅤ"
      ],
      "metadata": {
        "id": "QgmpkAf5edxJ"
      }
    },
    {
      "cell_type": "markdown",
      "source": [
        "**[ random.randn() ]**"
      ],
      "metadata": {
        "id": "CRaBQ4vRgFvM"
      }
    },
    {
      "cell_type": "markdown",
      "source": [
        "random.randn()는 랜덤한 숫자 배열을 만듭니다."
      ],
      "metadata": {
        "id": "pkBAKXPi5ueu"
      }
    },
    {
      "cell_type": "markdown",
      "source": [
        "ㅤ"
      ],
      "metadata": {
        "id": "T0g6eAzYefbN"
      }
    },
    {
      "cell_type": "markdown",
      "source": [
        "## **3. 차원과 크기 변경: reshape()**"
      ],
      "metadata": {
        "id": "3Jrc0vHq7E9X"
      }
    },
    {
      "cell_type": "markdown",
      "source": [
        "ndarray를 특정 차원 및 크기로 변환합니다."
      ],
      "metadata": {
        "id": "YZ2mPWrlS5g9"
      }
    },
    {
      "cell_type": "markdown",
      "source": [
        "지정된 사이즈로 변경이 불가능하면 오류가 발생합니다."
      ],
      "metadata": {
        "id": "V2KgtItWUhIw"
      }
    },
    {
      "cell_type": "markdown",
      "source": [
        "####배열의 차원 확인(뒤에 괄호 붙이지 않음)\n",
        "\n",
        "~~~\n",
        "배열이름.ndim\n",
        "~~~"
      ],
      "metadata": {
        "id": "n1-iX6KCsu61"
      }
    },
    {
      "cell_type": "code",
      "source": [
        "a1 = np.array([1,2,3,4,5])\n",
        "a2 = np.array([[1,2,3,4,5],[1,2,3,4,5]])\n",
        "a3 = np.array([[[1,2,3],[1,2,3]],[[1,2,3],[1,2,3]],[[1,2,3],[1,2,3]]])\n",
        "\n",
        "print(a1.ndim)\n",
        "print(a2.ndim)\n",
        "print(a3.ndim)"
      ],
      "metadata": {
        "colab": {
          "base_uri": "https://localhost:8080/"
        },
        "id": "0cCutvInO6ol",
        "outputId": "1c212e1a-35d1-4b97-dc7e-6f22b395262c"
      },
      "execution_count": 28,
      "outputs": [
        {
          "output_type": "stream",
          "name": "stdout",
          "text": [
            "1\n",
            "2\n",
            "3\n"
          ]
        }
      ]
    },
    {
      "cell_type": "markdown",
      "source": [
        "####배열의 크기\n",
        "~~~\n",
        "배열이름.shape\n",
        "~~~"
      ],
      "metadata": {
        "id": "H7nijyNjtHs3"
      }
    },
    {
      "cell_type": "code",
      "source": [
        "print(a1.shape)\n",
        "print(a2.shape)\n",
        "print(a3.shape)"
      ],
      "metadata": {
        "colab": {
          "base_uri": "https://localhost:8080/"
        },
        "id": "JCt2qHTZP5Np",
        "outputId": "8aacdcc3-3f02-4c2c-dee1-2e503075f763"
      },
      "execution_count": 29,
      "outputs": [
        {
          "output_type": "stream",
          "name": "stdout",
          "text": [
            "(5,)\n",
            "(2, 5)\n",
            "(3, 2, 3)\n"
          ]
        }
      ]
    },
    {
      "cell_type": "markdown",
      "source": [
        "####배열의 차원 바꾸기\n",
        "~~~\n",
        "배열이름.reshape(행, 열)\n",
        "~~~"
      ],
      "metadata": {
        "id": "LosLOgqwtl2p"
      }
    },
    {
      "cell_type": "code",
      "source": [
        "arr1 = np.arange(10)\n",
        "print(arr1)\n",
        "\n",
        "arr2 = arr1.reshape(2,5)\n",
        "print(arr2)\n",
        "\n",
        "# arr3 = arr1.reshape(3,3)\n",
        "# print(arr3)\n",
        "# 요소가 맞아야지 reshape가 가능"
      ],
      "metadata": {
        "colab": {
          "base_uri": "https://localhost:8080/"
        },
        "id": "NZ3oeeEzQLzP",
        "outputId": "70ffb316-92a8-4c2d-f1bc-32c2c525e092"
      },
      "execution_count": 31,
      "outputs": [
        {
          "output_type": "stream",
          "name": "stdout",
          "text": [
            "[0 1 2 3 4 5 6 7 8 9]\n",
            "[[0 1 2 3 4]\n",
            " [5 6 7 8 9]]\n"
          ]
        }
      ]
    },
    {
      "cell_type": "markdown",
      "source": [
        "ㅤ"
      ],
      "metadata": {
        "id": "63hp-RG7eikA"
      }
    },
    {
      "cell_type": "markdown",
      "source": [
        "* 행이나 열중 하나의 갯수만 정하고 나머지는 정하기 힘들때\n",
        "행,열 자리에 -1 입력,\n",
        "* reshape(-1, 1)을 이용해 3차원을 2차원으로 2차원을 1차원으로 변경할 수 있습니다."
      ],
      "metadata": {
        "id": "isKQ11_GZUn3"
      }
    },
    {
      "cell_type": "markdown",
      "source": [
        "####행과 열을 바꾸기\n",
        "~~~\n",
        "배열이름.T\n",
        "~~~"
      ],
      "metadata": {
        "id": "rlRG2nj9vKT-"
      }
    },
    {
      "cell_type": "markdown",
      "source": [
        "####배열  연결하기\n",
        "* 같은 행인 배열 연결하기\n",
        "~~~\n",
        "np.hstack([배열1, 배열2])\n",
        "~~~\n",
        "\n",
        "* 같은 열인 배열 연결하기\n",
        "~~~\n",
        "np.vstack([배열1, 배열2])\n",
        "~~~"
      ],
      "metadata": {
        "id": "-2mqVjSCvgdZ"
      }
    },
    {
      "cell_type": "markdown",
      "source": [
        "ㅤ"
      ],
      "metadata": {
        "id": "y7CL5vOdekTB"
      }
    },
    {
      "cell_type": "markdown",
      "source": [
        "## **4. 데이터 세트 선택하기: 인덱싱(Indexing)**"
      ],
      "metadata": {
        "id": "_pJuaw6daHti"
      }
    },
    {
      "cell_type": "markdown",
      "source": [
        "### **1) 단일 값 추출**"
      ],
      "metadata": {
        "id": "Q-6sGHOMahqm"
      }
    },
    {
      "cell_type": "markdown",
      "source": [
        "객체에 해당하는 위치의 인덱스 값을 [ ]안에 입력합니다."
      ],
      "metadata": {
        "id": "8nvenAR5avvr"
      }
    },
    {
      "cell_type": "code",
      "source": [
        "arr = np.arange(1,10)\n",
        "print(arr)\n",
        "print(arr[2])\n",
        "print(arr[-1])\n",
        "print(arr[-2])"
      ],
      "metadata": {
        "colab": {
          "base_uri": "https://localhost:8080/"
        },
        "id": "EHFgSejwTDbT",
        "outputId": "2eeb5452-ad60-469c-eebc-69e2f4fa8d02"
      },
      "execution_count": 33,
      "outputs": [
        {
          "output_type": "stream",
          "name": "stdout",
          "text": [
            "[1 2 3 4 5 6 7 8 9]\n",
            "3\n",
            "9\n",
            "8\n"
          ]
        }
      ]
    },
    {
      "cell_type": "markdown",
      "source": [
        "ㅤ"
      ],
      "metadata": {
        "id": "EBDa3i2Del6w"
      }
    },
    {
      "cell_type": "markdown",
      "source": [
        "단일 인덱스를 이용해 데이터값 수정도 가능합니다."
      ],
      "metadata": {
        "id": "qiwc_-mKbnw2"
      }
    },
    {
      "cell_type": "code",
      "source": [
        "arr[0] = 10\n",
        "print(arr)"
      ],
      "metadata": {
        "colab": {
          "base_uri": "https://localhost:8080/"
        },
        "id": "Z48lA1FFTfWp",
        "outputId": "41d3f2c0-34a0-4001-99ad-5ffbc1618fe6"
      },
      "execution_count": 34,
      "outputs": [
        {
          "output_type": "stream",
          "name": "stdout",
          "text": [
            "[10  2  3  4  5  6  7  8  9]\n"
          ]
        }
      ]
    },
    {
      "cell_type": "markdown",
      "source": [
        "ㅤ"
      ],
      "metadata": {
        "id": "ZEg2eolUen-Q"
      }
    },
    {
      "cell_type": "markdown",
      "source": [
        "다차원에서 단일 값을 추출할 수 있습니다."
      ],
      "metadata": {
        "id": "IFJPRXbHckYA"
      }
    },
    {
      "cell_type": "code",
      "source": [
        "arr2 = arr.reshape(3,3)\n",
        "print(arr2)\n",
        "print(arr2[0,0])\n",
        "print(arr2[0,1])"
      ],
      "metadata": {
        "colab": {
          "base_uri": "https://localhost:8080/"
        },
        "id": "xJFEEpBtTuMx",
        "outputId": "91db2d76-0a01-479b-863a-caaf1bcb6f49"
      },
      "execution_count": 37,
      "outputs": [
        {
          "output_type": "stream",
          "name": "stdout",
          "text": [
            "[[10  2  3]\n",
            " [ 4  5  6]\n",
            " [ 7  8  9]]\n",
            "10\n",
            "2\n"
          ]
        }
      ]
    },
    {
      "cell_type": "markdown",
      "source": [
        "ㅤ"
      ],
      "metadata": {
        "id": "oMsktWzQepaw"
      }
    },
    {
      "cell_type": "markdown",
      "source": [
        "ㅤ"
      ],
      "metadata": {
        "id": "svq_rNFAeqXJ"
      }
    },
    {
      "cell_type": "markdown",
      "source": [
        "### **2) 슬라이싱(Slicing)**"
      ],
      "metadata": {
        "id": "jYcrugElkv9d"
      }
    },
    {
      "cell_type": "markdown",
      "source": [
        ": 를 이용하여 연속 데이터를 추출합니다."
      ],
      "metadata": {
        "id": "4hFpTLcEk0dZ"
      }
    },
    {
      "cell_type": "markdown",
      "source": [
        "\n",
        "\n",
        "1.   : 기호 앞에 시작 인덱스를 생략하면 자동으로 맨 처음 인덱스인 0으로 간주합니다.\n",
        "2.   : 기호 뒤에 종료 인덱스를 생략하면 자동으로 맨 마지막 인덱스로 간주합니다.\n",
        "3.   : 기호 앞/뒤에 시작/종료 인덱스를 생략하면 자동으로 맨 처음/맨 마지막 인덱스로 간주합니다.\n",
        "\n"
      ],
      "metadata": {
        "id": "Li2toXC9TdHL"
      }
    },
    {
      "cell_type": "code",
      "source": [
        "arr = np.arange(1,10)\n",
        "print(arr[0:2])\n",
        "print(arr[3:])"
      ],
      "metadata": {
        "colab": {
          "base_uri": "https://localhost:8080/"
        },
        "id": "ICANShGlUVRQ",
        "outputId": "f1590964-a30b-4436-9d34-df4a73d7725f"
      },
      "execution_count": 40,
      "outputs": [
        {
          "output_type": "stream",
          "name": "stdout",
          "text": [
            "[1 2]\n",
            "[4 5 6 7 8 9]\n"
          ]
        }
      ]
    },
    {
      "cell_type": "markdown",
      "source": [
        "ㅤ"
      ],
      "metadata": {
        "id": "x1NAeDuoerzy"
      }
    },
    {
      "cell_type": "markdown",
      "source": [
        "2차원 ndarray에서 슬라이싱으로 데이터에 접근할 때는 콤마(,)로 행과 열 인덱스를 지칭합니다."
      ],
      "metadata": {
        "id": "6wFckcFjUjD5"
      }
    },
    {
      "cell_type": "markdown",
      "source": [
        "ㅤ"
      ],
      "metadata": {
        "id": "CinHnQ14es4b"
      }
    },
    {
      "cell_type": "markdown",
      "source": [
        "2차원 배열안에 있는 1차원 배열들 중에서 0번째와 1번째 배열을 가져옵니다."
      ],
      "metadata": {
        "id": "MH98R8EOkpeG"
      }
    },
    {
      "cell_type": "markdown",
      "source": [
        "ㅤ"
      ],
      "metadata": {
        "id": "r9zVm6xOet-N"
      }
    },
    {
      "cell_type": "markdown",
      "source": [
        "2차원 배열안에 있는 1차원 배열들 중에서 0번째부터 2번째까지 가져오고 가져온 1차원 배열 안에서 1번째부터 2번째까지 가져옵니다."
      ],
      "metadata": {
        "id": "td--N5fEk7JN"
      }
    },
    {
      "cell_type": "markdown",
      "source": [
        "ㅤ"
      ],
      "metadata": {
        "id": "SxeucqAoevY2"
      }
    },
    {
      "cell_type": "markdown",
      "source": [
        "2차원 배열안에 있는 1차원 배열들 중에서 1번째부터 맨 마지막번째까지 가져오고 가져온 1차원 배열안에서 맨 처음부터 1번째까지 가져옵니다."
      ],
      "metadata": {
        "id": "ULux28Eylfy0"
      }
    },
    {
      "cell_type": "markdown",
      "source": [
        "ㅤ"
      ],
      "metadata": {
        "id": "2Vs3jakrewoj"
      }
    },
    {
      "cell_type": "markdown",
      "source": [
        "2차원 배열안에 있는 1차원 배열들 중에서 0번째부터 2번째까지 가져오고 가져온 1차원 배열안에서 0번째까지 가져옵니다."
      ],
      "metadata": {
        "id": "p6RSg6w8mNYd"
      }
    },
    {
      "cell_type": "markdown",
      "source": [
        "ㅤ"
      ],
      "metadata": {
        "id": "LKcq9Wjnexh7"
      }
    },
    {
      "cell_type": "markdown",
      "source": [
        "### **3) 팬시 인덱싱**\n",
        "\n",
        "\n",
        "\n"
      ],
      "metadata": {
        "id": "BAnhYHvNmdg_"
      }
    },
    {
      "cell_type": "markdown",
      "source": [
        "리스트나 ndarray로 인덱스 집합을 지정하면 해당 위치의 인덱스에 해당하는 ndarray를 반환합니다."
      ],
      "metadata": {
        "id": "V_57eKJimyUu"
      }
    },
    {
      "cell_type": "markdown",
      "source": [
        "ㅤ"
      ],
      "metadata": {
        "id": "aO5JYHxKeyls"
      }
    },
    {
      "cell_type": "markdown",
      "source": [
        "### **4) 불린 인덱싱**"
      ],
      "metadata": {
        "id": "irvxDJMFoBJP"
      }
    },
    {
      "cell_type": "markdown",
      "source": [
        "조건 필터링과 검색을 동시에 할 수 있기 때문에 매우 자주 사용됩니다."
      ],
      "metadata": {
        "id": "ZuF31bqyoG-r"
      }
    },
    {
      "cell_type": "markdown",
      "source": [
        "* 1차원 불리언 배열 인덱싱\n",
        "--  [ ]대괄호안에 숫자나, 범위를 넣어주는것이 아니라 Boolean을 넣어줌\n",
        "-- Boolean은 True(1) , False(0)으로 만 이루어져있는 자료형\n",
        "-- 불리언 인덱싱을 사용할때 주의할점은 불리언배열과 인덱싱할배열이 같은 크기여야"
      ],
      "metadata": {
        "id": "mTnpbH1w5ZgI"
      }
    },
    {
      "cell_type": "code",
      "source": [
        "a = [1,2]\n",
        "b = [1,2]\n",
        "\n",
        "print(a==b)\n",
        "print(a is b) # 같지만 a ==b 는 아니야\n",
        "print(id(a), id(b))  # 주소가 달라"
      ],
      "metadata": {
        "colab": {
          "base_uri": "https://localhost:8080/"
        },
        "id": "mCvx-BBrVaMI",
        "outputId": "2a588a3f-a200-4ca8-f7cf-634890822d74"
      },
      "execution_count": 42,
      "outputs": [
        {
          "output_type": "stream",
          "name": "stdout",
          "text": [
            "True\n",
            "False\n",
            "138352839605376 138352839154624\n"
          ]
        }
      ]
    },
    {
      "cell_type": "code",
      "source": [
        "arr = np.array([0,1,2,3,4,5])\n",
        "arr2 = np.array([False, True, False, True, False, True])\n",
        "arr[arr2] # True인 애만 반환"
      ],
      "metadata": {
        "colab": {
          "base_uri": "https://localhost:8080/"
        },
        "id": "RhAEBpQDVu0r",
        "outputId": "b60033d9-47a6-41ff-e53c-ed310aa7010d"
      },
      "execution_count": 43,
      "outputs": [
        {
          "output_type": "execute_result",
          "data": {
            "text/plain": [
              "array([1, 3, 5])"
            ]
          },
          "metadata": {},
          "execution_count": 43
        }
      ]
    },
    {
      "cell_type": "code",
      "source": [
        "boolean = arr[arr>3]\n",
        "print(boolean)"
      ],
      "metadata": {
        "colab": {
          "base_uri": "https://localhost:8080/"
        },
        "id": "Uopliu1HWMmY",
        "outputId": "37a1defa-a6d9-48d1-d8e1-823ab0163ce7"
      },
      "execution_count": 44,
      "outputs": [
        {
          "output_type": "stream",
          "name": "stdout",
          "text": [
            "[4 5]\n"
          ]
        }
      ]
    },
    {
      "cell_type": "code",
      "source": [
        "boolean = arr[(arr>3) & (arr%2 == 0)]\n",
        "print(boolean)"
      ],
      "metadata": {
        "colab": {
          "base_uri": "https://localhost:8080/"
        },
        "id": "foMdK52UWqG3",
        "outputId": "c4598db2-3a12-411c-d139-9a35cf5d05b1"
      },
      "execution_count": 45,
      "outputs": [
        {
          "output_type": "stream",
          "name": "stdout",
          "text": [
            "[4]\n"
          ]
        }
      ]
    },
    {
      "cell_type": "markdown",
      "source": [
        "ㅤ"
      ],
      "metadata": {
        "id": "ORJAO10PezkI"
      }
    },
    {
      "cell_type": "markdown",
      "source": [
        "## **5. 행렬의 정렬  - sort()와 argsort()**"
      ],
      "metadata": {
        "id": "IEVa5mmGq3gv"
      }
    },
    {
      "cell_type": "markdown",
      "source": [
        "### **1) 행렬 정렬**"
      ],
      "metadata": {
        "id": "JaPabgJoq8GA"
      }
    },
    {
      "cell_type": "markdown",
      "source": [
        "\n",
        "\n",
        "*   np.sort() : 원본 행렬은 그대로 유지한 채 원 행렬의 정렬된 행렬을 반환합니다.\n",
        "*   ndarray.sort() : 원본 행렬 자체를 정렬합니다. 반환 값은 None 입니다.\n",
        "\n"
      ],
      "metadata": {
        "id": "yArKtZtsrHyF"
      }
    },
    {
      "cell_type": "code",
      "source": [
        "org_arr = np.array([4,2,8,6])\n",
        "print(org_arr)\n",
        "print(np.sort(org_arr)) # 원본 데이터 자체 정렬이 아님\n",
        "print(org_arr.sort())  # 반환 값 없음\n",
        "print(org_arr)  # 원본 데이터 자체를 정렬, 값을 바꿈"
      ],
      "metadata": {
        "colab": {
          "base_uri": "https://localhost:8080/"
        },
        "id": "OCXsW0kHW4sE",
        "outputId": "8a598417-9714-449e-c82c-dd53cf6705fe"
      },
      "execution_count": 49,
      "outputs": [
        {
          "output_type": "stream",
          "name": "stdout",
          "text": [
            "[4 2 8 6]\n",
            "[2 4 6 8]\n",
            "None\n"
          ]
        }
      ]
    },
    {
      "cell_type": "markdown",
      "source": [
        "ㅤ"
      ],
      "metadata": {
        "id": "lhIsN_Dfe0l7"
      }
    },
    {
      "cell_type": "markdown",
      "source": [
        "내림차순으로 반환하기 위해서는 np.sort에서 다음과 같이 [::-1]을 붙여줍니다."
      ],
      "metadata": {
        "id": "u_xfeiGhtSR2"
      }
    },
    {
      "cell_type": "markdown",
      "source": [
        "ㅤ"
      ],
      "metadata": {
        "id": "aqYuHFBxe1pz"
      }
    },
    {
      "cell_type": "markdown",
      "source": [
        "2차원 배열은 axis 축 값 설정을 통해 행열 정렬을 수행합니다.\n",
        "\n",
        "*   axis = 0 : 행 방향\n",
        "*   axis = 1 : 열 방향\n",
        "* 오름차순 :\n",
        "-- 2차원배열 행기준 : np.sort(배열, axis=0)\n",
        "-- 2차원배열 열기준 : np.sort(배열, axis=1)\n",
        "* 내림차순 :\n",
        "-- 행기준 : np.sort(배열, axis=0)[::-1]\n",
        "-- 열기준 : np.sort(배열, axis=1)[::-1]\n",
        "\n",
        "\n"
      ],
      "metadata": {
        "id": "NfcC_3HOt9-3"
      }
    },
    {
      "cell_type": "markdown",
      "source": [
        "ㅤ"
      ],
      "metadata": {
        "id": "sb89CKsme2o9"
      }
    },
    {
      "cell_type": "markdown",
      "source": [
        "### **2) np.argsort() : 정렬된 행렬의 인덱스를 반환하기**"
      ],
      "metadata": {
        "id": "xfp0IkmJvjzO"
      }
    },
    {
      "cell_type": "markdown",
      "source": [
        "argsort()는 넘파이에서 매우 활용도가 높습니다."
      ],
      "metadata": {
        "id": "CC7vy0rmwotV"
      }
    },
    {
      "cell_type": "code",
      "source": [
        "print(np.argsort(org_arr))"
      ],
      "metadata": {
        "colab": {
          "base_uri": "https://localhost:8080/"
        },
        "id": "mecirUJPYZUc",
        "outputId": "bfa91a7d-0950-4cb0-ced4-f35e48dc4f10"
      },
      "execution_count": 51,
      "outputs": [
        {
          "output_type": "stream",
          "name": "stdout",
          "text": [
            "[0 1 2 3]\n"
          ]
        }
      ]
    },
    {
      "cell_type": "markdown",
      "source": [
        "ㅤ"
      ],
      "metadata": {
        "id": "HeNdp4V8e3wy"
      }
    },
    {
      "cell_type": "markdown",
      "source": [
        "np.argsort 역시 np.sort와 마찬가지로 내림차순 반환이 가능합니다."
      ],
      "metadata": {
        "id": "SS_5afeBwVXf"
      }
    },
    {
      "cell_type": "code",
      "source": [
        "print(np.argsort(org_arr)[::-1])"
      ],
      "metadata": {
        "colab": {
          "base_uri": "https://localhost:8080/"
        },
        "id": "lp8O7MPyYQrc",
        "outputId": "621869b5-2f9b-4d29-be84-353b4bc178e6"
      },
      "execution_count": 50,
      "outputs": [
        {
          "output_type": "stream",
          "name": "stdout",
          "text": [
            "[3 2 1 0]\n"
          ]
        }
      ]
    },
    {
      "cell_type": "markdown",
      "source": [
        "ㅤ"
      ],
      "metadata": {
        "id": "CZbPxd9ze47K"
      }
    },
    {
      "cell_type": "markdown",
      "source": [
        "## **7. 배열 간 사칙연산**"
      ],
      "metadata": {
        "id": "bHvEmmTy_NQi"
      }
    },
    {
      "cell_type": "markdown",
      "source": [
        "동일한 모양의 두 배열을 사칙연산합니다.(배열 두개만 가능)\n",
        "* 두 배열 더하기 : np.add(배열1, 배열2)\n",
        "* 두 배열 빼기 : np.subtract(배열1, 배열2)\n",
        "* 두 배열 곱하기 : np.multiply(배열1, 배열2)\n",
        "* 두 배열 나누기 : np.divide(배열1, 배열2)"
      ],
      "metadata": {
        "id": "tkw_sFCu_S3v"
      }
    },
    {
      "cell_type": "code",
      "source": [
        "arr = np.array([[11,12,13],[2,3,4]])\n",
        "print(arr)\n",
        "print('*'*10)\n",
        "print(arr + arr)"
      ],
      "metadata": {
        "colab": {
          "base_uri": "https://localhost:8080/"
        },
        "id": "-3-7_UgxYob3",
        "outputId": "072f27c5-622e-4d7b-aae0-34c827e72d34"
      },
      "execution_count": 52,
      "outputs": [
        {
          "output_type": "stream",
          "name": "stdout",
          "text": [
            "[[11 12 13]\n",
            " [ 2  3  4]]\n",
            "**********\n",
            "[[22 24 26]\n",
            " [ 4  6  8]]\n"
          ]
        }
      ]
    },
    {
      "cell_type": "code",
      "source": [
        "a = np.array([1,2,3])\n",
        "b = np.array([3,2,1])\n",
        "sum = np.add(a,b)\n",
        "print(sum)\n",
        "sub = np.subtract(a,b)\n",
        "print(sub)\n",
        "multi = np.multiply(a,b)\n",
        "print(multi)\n",
        "div = np.divide(a,b)\n",
        "print(div)"
      ],
      "metadata": {
        "colab": {
          "base_uri": "https://localhost:8080/"
        },
        "id": "taP-DaASZY4q",
        "outputId": "ef3fdf1c-7c59-4509-f02e-eddf7a9f3c93"
      },
      "execution_count": 54,
      "outputs": [
        {
          "output_type": "stream",
          "name": "stdout",
          "text": [
            "[4 4 4]\n",
            "[-2  0  2]\n",
            "[3 4 3]\n",
            "[0.33333333 1.         3.        ]\n"
          ]
        }
      ]
    },
    {
      "cell_type": "markdown",
      "source": [
        "배열 내 같은 위치의 원소끼리 연산을 합니다."
      ],
      "metadata": {
        "id": "_ukpSUFl_y2O"
      }
    },
    {
      "cell_type": "markdown",
      "source": [
        "* == 사용해서 같은 값인지 비교"
      ],
      "metadata": {
        "id": "QvmlPe0sylIE"
      }
    },
    {
      "cell_type": "code",
      "source": [
        "a == b"
      ],
      "metadata": {
        "colab": {
          "base_uri": "https://localhost:8080/"
        },
        "id": "gE3u5tJ4Z4aF",
        "outputId": "f1625a66-d655-4e62-9487-ea156531fafa"
      },
      "execution_count": 55,
      "outputs": [
        {
          "output_type": "execute_result",
          "data": {
            "text/plain": [
              "array([False,  True, False])"
            ]
          },
          "metadata": {},
          "execution_count": 55
        }
      ]
    },
    {
      "cell_type": "markdown",
      "source": [
        "배열 비교해 최대값과 최소값을 찾기  ※ 배열두개만 가능\n",
        "* 두 배열중 최대값 : np.maximum(배열1, 배열2)\n",
        "* 두 배열중 최소값 : np.minimum(배열1, 배열2)"
      ],
      "metadata": {
        "id": "MeL2Yq2gzWoA"
      }
    },
    {
      "cell_type": "code",
      "source": [
        "print(np.maximum(a,b))\n",
        "print(np.minimum(a,b))"
      ],
      "metadata": {
        "colab": {
          "base_uri": "https://localhost:8080/"
        },
        "id": "8fibZju-Z9Om",
        "outputId": "11719a9a-7609-4ca3-d3ab-96ed94e6e40e"
      },
      "execution_count": 57,
      "outputs": [
        {
          "output_type": "stream",
          "name": "stdout",
          "text": [
            "[3 2 3]\n",
            "[1 2 1]\n"
          ]
        }
      ]
    },
    {
      "cell_type": "markdown",
      "source": [
        "ㅤ"
      ],
      "metadata": {
        "id": "QvHQQCRae8vK"
      }
    },
    {
      "cell_type": "markdown",
      "source": [
        "## **8. Broadcasting**"
      ],
      "metadata": {
        "id": "_4EstB5J_8Xo"
      }
    },
    {
      "cell_type": "markdown",
      "source": [
        "배열과 1개의 숫자를 사칙 연산합니다."
      ],
      "metadata": {
        "id": "zKpD4G62AC3_"
      }
    },
    {
      "cell_type": "code",
      "source": [
        "print(a)\n",
        "print(a+13)\n",
        "print(a*13)"
      ],
      "metadata": {
        "colab": {
          "base_uri": "https://localhost:8080/"
        },
        "id": "Dkls36rKaHB9",
        "outputId": "0a5922d2-3799-4998-dde2-5f5fe205f2c6"
      },
      "execution_count": 59,
      "outputs": [
        {
          "output_type": "stream",
          "name": "stdout",
          "text": [
            "[1 2 3]\n",
            "[14 15 16]\n",
            "[13 26 39]\n"
          ]
        }
      ]
    },
    {
      "cell_type": "code",
      "source": [
        "a1 = np.array([[1,2,3],[4,5,6],[7,8,9]])\n",
        "a2 = np.array([[1,2,3],[1,2,3],[1,2,3]])\n",
        "print(a1)\n",
        "print('*'*10)\n",
        "print(a2)\n",
        "print('*'*10)\n",
        "print(a1+a2)"
      ],
      "metadata": {
        "colab": {
          "base_uri": "https://localhost:8080/"
        },
        "id": "305bLOqYacA8",
        "outputId": "bc6b9924-22e0-46f1-fa31-cdefcb1df4e0"
      },
      "execution_count": 61,
      "outputs": [
        {
          "output_type": "stream",
          "name": "stdout",
          "text": [
            "[[1 2 3]\n",
            " [4 5 6]\n",
            " [7 8 9]]\n",
            "**********\n",
            "[[1 2 3]\n",
            " [1 2 3]\n",
            " [1 2 3]]\n",
            "**********\n",
            "[[ 2  4  6]\n",
            " [ 5  7  9]\n",
            " [ 8 10 12]]\n"
          ]
        }
      ]
    },
    {
      "cell_type": "markdown",
      "source": [
        "ㅤ"
      ],
      "metadata": {
        "id": "s6iJZo5he9zp"
      }
    },
    {
      "cell_type": "markdown",
      "source": [
        "같은 수의 행과 열을 가진 여러 개의 배열을 연산할 수도 있습니다."
      ],
      "metadata": {
        "id": "fKulZx_KPHKs"
      }
    },
    {
      "cell_type": "code",
      "source": [],
      "metadata": {
        "id": "1sr1NurYaKuZ"
      },
      "execution_count": null,
      "outputs": []
    },
    {
      "cell_type": "markdown",
      "source": [
        "ㅤ"
      ],
      "metadata": {
        "id": "Hg3cu1y4e-3z"
      }
    },
    {
      "cell_type": "markdown",
      "source": [
        "다른 형태의 배열끼리도 연산이 가능합니다."
      ],
      "metadata": {
        "id": "MaRNmHiYly6z"
      }
    },
    {
      "cell_type": "markdown",
      "source": [
        "ㅤ"
      ],
      "metadata": {
        "id": "eAKtLnFDfAUw"
      }
    },
    {
      "cell_type": "markdown",
      "source": [
        "## **9. 집계(Aggregation)**"
      ],
      "metadata": {
        "id": "DTvFnzXVBLvR"
      }
    },
    {
      "cell_type": "markdown",
      "source": [
        "### **1) 합계**"
      ],
      "metadata": {
        "id": "EgraYbRcK2gn"
      }
    },
    {
      "cell_type": "markdown",
      "source": [
        "배열의 합계는 .sum() 을 이용합니다."
      ],
      "metadata": {
        "id": "57yTlUOwLL0h"
      }
    },
    {
      "cell_type": "code",
      "source": [
        "a = np.array([1,2,3,4,5])\n",
        "\n",
        "print(a.sum())"
      ],
      "metadata": {
        "colab": {
          "base_uri": "https://localhost:8080/"
        },
        "id": "rxnEaC3abCkG",
        "outputId": "0dc398dc-be59-4351-ae6c-0587756b98e7"
      },
      "execution_count": 62,
      "outputs": [
        {
          "output_type": "stream",
          "name": "stdout",
          "text": [
            "15\n"
          ]
        }
      ]
    },
    {
      "cell_type": "markdown",
      "source": [
        "누적합계는 .cumsum() 이용"
      ],
      "metadata": {
        "id": "QnsYporrzrWb"
      }
    },
    {
      "cell_type": "code",
      "source": [
        "print(a.cumsum())"
      ],
      "metadata": {
        "colab": {
          "base_uri": "https://localhost:8080/"
        },
        "id": "GmJAmU6qbBZe",
        "outputId": "b3dff08f-527a-4576-f3db-3990683c45a7"
      },
      "execution_count": 65,
      "outputs": [
        {
          "output_type": "stream",
          "name": "stdout",
          "text": [
            "[ 1  3  6 10 15]\n"
          ]
        }
      ]
    },
    {
      "cell_type": "markdown",
      "source": [
        "ㅤ"
      ],
      "metadata": {
        "id": "Mp16gTO-fBuF"
      }
    },
    {
      "cell_type": "markdown",
      "source": [
        "축을 설정하여 열 방향 혹은 행 방향으로만 더할 수 있습니다."
      ],
      "metadata": {
        "id": "E9fhAlObNdok"
      }
    },
    {
      "cell_type": "code",
      "source": [
        "print(a.sum(axis = 0))\n",
        "# print(a.sum(axis = 1))"
      ],
      "metadata": {
        "colab": {
          "base_uri": "https://localhost:8080/"
        },
        "id": "tbWaWKsFbdOd",
        "outputId": "d9f1d08c-ee95-45d7-dd65-3900155ec56c"
      },
      "execution_count": 67,
      "outputs": [
        {
          "output_type": "stream",
          "name": "stdout",
          "text": [
            "15\n"
          ]
        }
      ]
    },
    {
      "cell_type": "markdown",
      "source": [
        "ㅤ"
      ],
      "metadata": {
        "id": "lDR8pwNYfCy_"
      }
    },
    {
      "cell_type": "markdown",
      "source": [
        "### **2) 평균**"
      ],
      "metadata": {
        "id": "Nv9Abig2LPRI"
      }
    },
    {
      "cell_type": "markdown",
      "source": [
        "배열의 평균은 .mean()을 이용합니다."
      ],
      "metadata": {
        "id": "0Mhac27qLRgV"
      }
    },
    {
      "cell_type": "code",
      "source": [
        "a.mean()"
      ],
      "metadata": {
        "colab": {
          "base_uri": "https://localhost:8080/"
        },
        "id": "3YSxOfJIbtRP",
        "outputId": "affaa033-86dd-4ae4-bdbc-4553bcf062fc"
      },
      "execution_count": 68,
      "outputs": [
        {
          "output_type": "execute_result",
          "data": {
            "text/plain": [
              "3.0"
            ]
          },
          "metadata": {},
          "execution_count": 68
        }
      ]
    },
    {
      "cell_type": "markdown",
      "source": [
        "ㅤ"
      ],
      "metadata": {
        "id": "PCBp41LJfD3D"
      }
    },
    {
      "cell_type": "markdown",
      "source": [
        "### **3) 곱셈**"
      ],
      "metadata": {
        "id": "nZcdAgGMLewX"
      }
    },
    {
      "cell_type": "markdown",
      "source": [
        "배열의 곱샘은 .prod()을 이용합니다."
      ],
      "metadata": {
        "id": "digCTvQ2LjeD"
      }
    },
    {
      "cell_type": "code",
      "source": [
        "a.prod()"
      ],
      "metadata": {
        "colab": {
          "base_uri": "https://localhost:8080/"
        },
        "id": "nnnAzxz2bv2u",
        "outputId": "b2ad697b-a986-46f4-fde0-3e5297ed6b89"
      },
      "execution_count": 69,
      "outputs": [
        {
          "output_type": "execute_result",
          "data": {
            "text/plain": [
              "120"
            ]
          },
          "metadata": {},
          "execution_count": 69
        }
      ]
    },
    {
      "cell_type": "markdown",
      "source": [
        "누적 곱셉은 .cumprod()"
      ],
      "metadata": {
        "id": "utSvKxqd0knz"
      }
    },
    {
      "cell_type": "code",
      "source": [
        "a.cumprod()"
      ],
      "metadata": {
        "colab": {
          "base_uri": "https://localhost:8080/"
        },
        "id": "_ruNuhQEbyo-",
        "outputId": "d3fa773d-3960-4616-928a-5a0519282e47"
      },
      "execution_count": 70,
      "outputs": [
        {
          "output_type": "execute_result",
          "data": {
            "text/plain": [
              "array([  1,   2,   6,  24, 120])"
            ]
          },
          "metadata": {},
          "execution_count": 70
        }
      ]
    },
    {
      "cell_type": "markdown",
      "source": [
        "ㅤ"
      ],
      "metadata": {
        "id": "pBUcYBXsfEvX"
      }
    },
    {
      "cell_type": "markdown",
      "source": [
        "### **4) 최댓값과 최솟값**"
      ],
      "metadata": {
        "id": "Mj1QkSBsL0XQ"
      }
    },
    {
      "cell_type": "markdown",
      "source": [
        "최댓값과 최솟값은 각각 .max()와 .min()을 이용합니다."
      ],
      "metadata": {
        "id": "lyoxn1ubL3Y7"
      }
    },
    {
      "cell_type": "code",
      "source": [
        "print(a.max())\n",
        "print(a.min())"
      ],
      "metadata": {
        "colab": {
          "base_uri": "https://localhost:8080/"
        },
        "id": "VIOqHIjlb4p_",
        "outputId": "3496cb33-3d42-405a-e457-d332fd75fa11"
      },
      "execution_count": 71,
      "outputs": [
        {
          "output_type": "stream",
          "name": "stdout",
          "text": [
            "5\n",
            "1\n"
          ]
        }
      ]
    },
    {
      "cell_type": "markdown",
      "source": [
        "ㅤ"
      ],
      "metadata": {
        "id": "qSLd8609fFmB"
      }
    },
    {
      "cell_type": "markdown",
      "source": [
        "인덱싱으로 해당 열의 최댓값과 최솟값을 구할 수도 있습니다."
      ],
      "metadata": {
        "id": "li9o2_7JOE-A"
      }
    },
    {
      "cell_type": "markdown",
      "source": [
        "ㅤ"
      ],
      "metadata": {
        "id": "rFZnftCmfGlD"
      }
    },
    {
      "cell_type": "markdown",
      "source": [
        ".argmax()와 .argmin()을 이용하여 배열에서 최댓값인 원소의 인덱스 번호와 최솟값인 원소의 인덱스 번호를 구할 수 있습니다."
      ],
      "metadata": {
        "id": "sWO9DklxMkhP"
      }
    },
    {
      "cell_type": "markdown",
      "source": [
        "ㅤ"
      ],
      "metadata": {
        "id": "jj5jpdqLfHff"
      }
    },
    {
      "cell_type": "markdown",
      "source": [
        "### **5) 표준편차와 분산**"
      ],
      "metadata": {
        "id": "M1X5SCCzMB4u"
      }
    },
    {
      "cell_type": "markdown",
      "source": [
        "표준편차와 분산은 각각 .std()와 .var()을 이용합니다.\n",
        "* 분산 : 값들이 퍼져있는 정도 내가 만든범위(배열)에서 값들이 얼마나 퍼져있는지.\n",
        "* 예를들면 1,2,3의 분산과 100,101,102의 분산은 같음.\n",
        "* 수의 절대적인 크기가 아닌 내가 정한 범위안에서 이값들이 퍼져있는 정도\n",
        "* 표준편차 : 분산의 수치가 커서 제곱근으로 적당하게 줄인 값"
      ],
      "metadata": {
        "id": "47jr4du5MHYj"
      }
    },
    {
      "cell_type": "code",
      "source": [
        "print(a.std())\n",
        "print(a.var())"
      ],
      "metadata": {
        "colab": {
          "base_uri": "https://localhost:8080/"
        },
        "id": "D_apVPmDcNJO",
        "outputId": "60221b36-58a4-4ba4-efaf-166679b53f67"
      },
      "execution_count": 73,
      "outputs": [
        {
          "output_type": "stream",
          "name": "stdout",
          "text": [
            "1.4142135623730951\n",
            "2.0\n"
          ]
        }
      ]
    },
    {
      "cell_type": "markdown",
      "source": [
        "### **6) 중복제거**\n",
        " .unique()\n"
      ],
      "metadata": {
        "id": "TXQ8k8eR1vYN"
      }
    },
    {
      "cell_type": "markdown",
      "source": [
        "\n",
        "---\n",
        "\n",
        "\n"
      ],
      "metadata": {
        "id": "tDzxC1xqVLfV"
      }
    },
    {
      "cell_type": "code",
      "source": [
        "a = np.array([1,2,1,2,3,4,5,6,6,10,10])\n",
        "\n",
        "print(np.unique(a)) # 중복된 값 빼고 알려줌"
      ],
      "metadata": {
        "colab": {
          "base_uri": "https://localhost:8080/"
        },
        "id": "XS536oZJcZVL",
        "outputId": "0bcb95fb-449e-4fc1-de8f-bc070abefc95"
      },
      "execution_count": 74,
      "outputs": [
        {
          "output_type": "stream",
          "name": "stdout",
          "text": [
            "[ 1  2  3  4  5  6 10]\n"
          ]
        }
      ]
    },
    {
      "cell_type": "markdown",
      "source": [
        "배열간 연산과 인덱싱, 슬라이싱은 Pandas와 함께 데이터 병합과 전처리를 진행할 때 유용하게 쓰이는 방법"
      ],
      "metadata": {
        "id": "sNuymI0mRm_x"
      }
    }
  ]
}