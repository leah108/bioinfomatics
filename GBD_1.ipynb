{
  "nbformat": 4,
  "nbformat_minor": 0,
  "metadata": {
    "colab": {
      "provenance": [],
      "authorship_tag": "ABX9TyM6YpEerlu+ahnft2kGcet0",
      "include_colab_link": true
    },
    "kernelspec": {
      "name": "python3",
      "display_name": "Python 3"
    },
    "language_info": {
      "name": "python"
    }
  },
  "cells": [
    {
      "cell_type": "markdown",
      "metadata": {
        "id": "view-in-github",
        "colab_type": "text"
      },
      "source": [
        "<a href=\"https://colab.research.google.com/github/leah108/bioinfomatics/blob/main/GBD_1.ipynb\" target=\"_parent\"><img src=\"https://colab.research.google.com/assets/colab-badge.svg\" alt=\"Open In Colab\"/></a>"
      ]
    },
    {
      "cell_type": "markdown",
      "source": [
        "# 1일차"
      ],
      "metadata": {
        "id": "maNwzhUcvcrl"
      }
    },
    {
      "cell_type": "markdown",
      "source": [
        "##1. 파이썬 기본 자료형\n"
      ],
      "metadata": {
        "id": "8-eLZ-HWdmCc"
      }
    },
    {
      "cell_type": "code",
      "execution_count": null,
      "metadata": {
        "colab": {
          "base_uri": "https://localhost:8080/"
        },
        "id": "b1-W-p7pdVhc",
        "outputId": "09f10916-1560-4515-d2a5-11302faeacb7"
      },
      "outputs": [
        {
          "output_type": "stream",
          "name": "stdout",
          "text": [
            "<class 'int'>\n",
            "<class 'float'>\n",
            "<class 'str'>\n"
          ]
        }
      ],
      "source": [
        "# 데이터 형태를 확인해 주는 함수 : type()\n",
        "# 화면에 출력해주는 함수 : print()\n",
        "\n",
        "print(type(100))\n",
        "print(type(100.0))\n",
        "print(type('파이썬'))"
      ]
    },
    {
      "cell_type": "code",
      "source": [
        "# 변수에 값을 지정해서 사용하낟.\n",
        "\n",
        "a = 100\n",
        "b = 50\n",
        "c = '파이썬'\n",
        "\n",
        "print(a + b)\n",
        "print(c)"
      ],
      "metadata": {
        "colab": {
          "base_uri": "https://localhost:8080/"
        },
        "id": "2pwDaDree7bg",
        "outputId": "7f2a39aa-5914-47cc-c5ba-9a76ab6f58c7"
      },
      "execution_count": null,
      "outputs": [
        {
          "output_type": "stream",
          "name": "stdout",
          "text": [
            "150\n",
            "파이썬\n"
          ]
        }
      ]
    },
    {
      "cell_type": "code",
      "source": [
        "사과 = '수박'\n",
        "\n",
        "print(사과)"
      ],
      "metadata": {
        "colab": {
          "base_uri": "https://localhost:8080/"
        },
        "id": "Wbn7esFhgNmW",
        "outputId": "b0d3c2a6-1ad0-4195-fa5c-3e164c79a807"
      },
      "execution_count": null,
      "outputs": [
        {
          "output_type": "stream",
          "name": "stdout",
          "text": [
            "수박\n"
          ]
        }
      ]
    },
    {
      "cell_type": "code",
      "source": [
        "a = 3.14\n",
        "b = 314\n",
        "\n",
        "print(int(a))\n",
        "print(float(b))"
      ],
      "metadata": {
        "colab": {
          "base_uri": "https://localhost:8080/"
        },
        "id": "2i7NhShAhGe-",
        "outputId": "6f4d590c-bc7e-4091-e9ff-9d296894bf87"
      },
      "execution_count": null,
      "outputs": [
        {
          "output_type": "stream",
          "name": "stdout",
          "text": [
            "3\n",
            "314.0\n"
          ]
        }
      ]
    },
    {
      "cell_type": "code",
      "source": [
        "# 숫자형 나눗셈의 결과 자료형은 무조건 float 형이다.\n",
        "\n",
        "print(10 / 3)\n",
        "print(10 / 2)\n",
        "print(type(10/3))\n",
        "print(type(10/2))"
      ],
      "metadata": {
        "colab": {
          "base_uri": "https://localhost:8080/"
        },
        "id": "dWf4v8q8hzra",
        "outputId": "73a11132-90a5-47de-e6f0-e9bad9f0aee0"
      },
      "execution_count": null,
      "outputs": [
        {
          "output_type": "stream",
          "name": "stdout",
          "text": [
            "3.3333333333333335\n",
            "5.0\n",
            "<class 'float'>\n",
            "<class 'float'>\n"
          ]
        }
      ]
    },
    {
      "cell_type": "code",
      "source": [
        "# 정수끼리 연산은 정수, 실수가 포함되면 실수의 결과 자료형을 갖는다.\n",
        "\n",
        "print(10 * 2)\n",
        "print(type(10*2))\n",
        "print(10.0 * 2)\n",
        "print(type(10.0*2))"
      ],
      "metadata": {
        "colab": {
          "base_uri": "https://localhost:8080/"
        },
        "id": "_rcy7SGzjHGx",
        "outputId": "a6a1a699-1edf-43b9-b98a-7fc76ef18de2"
      },
      "execution_count": null,
      "outputs": [
        {
          "output_type": "stream",
          "name": "stdout",
          "text": [
            "20\n",
            "<class 'int'>\n",
            "20.0\n",
            "<class 'float'>\n"
          ]
        }
      ]
    },
    {
      "cell_type": "markdown",
      "source": [
        "2. 문자열형"
      ],
      "metadata": {
        "id": "ZPaGXwDMkC-k"
      }
    },
    {
      "cell_type": "code",
      "source": [
        "# + : 문자열을 붙여서 표현한다.\n",
        "print('오늘은' + '파이썬 첫 날!')\n",
        "print('오늘은', '파이썬 첫 날!')"
      ],
      "metadata": {
        "colab": {
          "base_uri": "https://localhost:8080/"
        },
        "id": "1sGiQXOhkM1B",
        "outputId": "c6b45ba6-50b6-482e-aaef-1e27305d0bbb"
      },
      "execution_count": null,
      "outputs": [
        {
          "output_type": "stream",
          "name": "stdout",
          "text": [
            "오늘은파이썬 첫 날!\n",
            "오늘은 파이썬 첫 날!\n"
          ]
        }
      ]
    },
    {
      "cell_type": "code",
      "source": [
        "# * : 문자열을 반복한다.\n",
        "print('반짝' * 5)\n",
        "print('-' * 50)"
      ],
      "metadata": {
        "colab": {
          "base_uri": "https://localhost:8080/"
        },
        "id": "-qmXNUXepIOr",
        "outputId": "57939554-25ee-4bed-cb30-c4de1b2292d6"
      },
      "execution_count": null,
      "outputs": [
        {
          "output_type": "stream",
          "name": "stdout",
          "text": [
            "반짝반짝반짝반짝반짝\n",
            "--------------------------------------------------\n"
          ]
        }
      ]
    },
    {
      "cell_type": "markdown",
      "source": [
        "## Bool 타입"
      ],
      "metadata": {
        "id": "zDFLMgE4qdCO"
      }
    },
    {
      "cell_type": "code",
      "source": [
        "# command + / : 드래그하고 누르면 전부 주석처리 됨,,,wow\n",
        "# a = True\n",
        "# b = False\n",
        "# print(a,b)\n",
        "\n",
        "a = 100\n",
        "b = 200\n",
        "print(a > b)"
      ],
      "metadata": {
        "colab": {
          "base_uri": "https://localhost:8080/"
        },
        "id": "hrXOJv7JqgTn",
        "outputId": "fe6d0d7c-a8de-48b2-f7e7-cfde83171b8c"
      },
      "execution_count": null,
      "outputs": [
        {
          "output_type": "stream",
          "name": "stdout",
          "text": [
            "False\n"
          ]
        }
      ]
    },
    {
      "cell_type": "markdown",
      "source": [
        "## 2. 파이썬 기본 입출력"
      ],
      "metadata": {
        "id": "T24cPq_Ds2cw"
      }
    },
    {
      "cell_type": "code",
      "source": [
        "# 파이썬으로 사칙연산 하기 프로그램\n",
        "a = input('키보드로 입력하세요: ')\n",
        "a = int(a)\n",
        "print('a의 값은: ', a, type(a))"
      ],
      "metadata": {
        "colab": {
          "base_uri": "https://localhost:8080/"
        },
        "id": "hn88CnnEqiyD",
        "outputId": "4c3f7a75-0426-4857-cb77-3e42c586b5ab"
      },
      "execution_count": null,
      "outputs": [
        {
          "output_type": "stream",
          "name": "stdout",
          "text": [
            "키보드로 입력하세요: 100\n",
            "a의 값은:  100 <class 'int'>\n"
          ]
        }
      ]
    },
    {
      "cell_type": "code",
      "source": [
        "a = int(input('키보드로 입력하세요: '))"
      ],
      "metadata": {
        "colab": {
          "base_uri": "https://localhost:8080/"
        },
        "id": "f396IGEmtCvq",
        "outputId": "186ba3dc-2475-4342-f2d5-d074e91b7421"
      },
      "execution_count": null,
      "outputs": [
        {
          "name": "stdout",
          "output_type": "stream",
          "text": [
            "키보드로 입력하세요: 100\n"
          ]
        }
      ]
    },
    {
      "cell_type": "code",
      "source": [
        "num1 = int(input('첫 번째 숫자: '))\n",
        "num2 = int(input('두 번째 숫자: '))\n",
        "print('-' * 30)\n",
        "print('덧셈 : %d + %d = %d' % (num1, num2, num1 + num2))\n",
        "print('뺄셈 : %d - %d = %d' % (num1, num2, num1 - num2))\n",
        "print('곱셈 : %d * %d = %d' % (num1, num2, num1 * num2))\n",
        "print('나눗셈 : %d / %d = %d' % (num1, num2, num1 / num2))"
      ],
      "metadata": {
        "colab": {
          "base_uri": "https://localhost:8080/"
        },
        "id": "kNZTSxRbuFDW",
        "outputId": "5e351464-3d76-4826-beaa-73b3f7a6afc6"
      },
      "execution_count": null,
      "outputs": [
        {
          "output_type": "stream",
          "name": "stdout",
          "text": [
            "첫 번째 숫자: 200\n",
            "두 번째 숫자: 30\n",
            "------------------------------\n",
            "덧셈: 200 + 30 = 230\n"
          ]
        }
      ]
    },
    {
      "cell_type": "code",
      "source": [
        "# 두 수를 입력 받아 덧셈, 뺄셈, 곱셈, 몫, 나머지를 출력하는 프로그램을 작성하세요.\n",
        "\n",
        "num1 = int(input('첫 번째 숫자: '))\n",
        "num2 = int(input('두 번째 숫자: '))\n",
        "print('-' * 30)\n",
        "print(f'덧셈: {num1} + {num2} = {num1 + num2}')\n",
        "print(f'뺄셈: {num1} - {num2:>3} = {num1 - num2}')   #빈칸 넣어 3자리\n",
        "print(f'곱셈: {num1} * {num2:0>3} = {num1 * num2}')  #빈칸에 0 넣어 3자리\n",
        "print(f'나눗셈: {num1} / {num2} = {num1/ num2}')"
      ],
      "metadata": {
        "colab": {
          "base_uri": "https://localhost:8080/"
        },
        "id": "I3AkMEsBuk6W",
        "outputId": "e8f680fd-c5d6-4dc1-dab7-d0301d0d03eb"
      },
      "execution_count": null,
      "outputs": [
        {
          "output_type": "stream",
          "name": "stdout",
          "text": [
            "첫 번째 숫자: 200\n",
            "두 번째 숫자: 30\n",
            "------------------------------\n",
            "덧셈: 200 + 30 = 230\n",
            "뺄셈: 200 -  30 = 170\n",
            "곱셈: 200 * 030 = 6000\n",
            "나눗셈: 200 / 30 = 6.666666666666667\n"
          ]
        }
      ]
    },
    {
      "cell_type": "code",
      "source": [
        "# 속도와 거리를 입력 받아 시간을 계산하여 출력하는 프로그램을 만드세요.\n",
        "\n",
        "distance = float(input('거리를 입력해주세요: '))\n",
        "velocity = float(input('속도를 입력해주세요: '))\n",
        "print('거리= ', distance)\n",
        "print('속도= ', velocity)\n",
        "print(f'시간(Time) = {distance} / {velocity} = {distance / velocity}')"
      ],
      "metadata": {
        "colab": {
          "base_uri": "https://localhost:8080/"
        },
        "id": "OlWpoTz2xhbB",
        "outputId": "469effb0-6721-4c1b-b092-8ad6f62ae395"
      },
      "execution_count": null,
      "outputs": [
        {
          "output_type": "stream",
          "name": "stdout",
          "text": [
            "거리를 입력해주세요: 200\n",
            "속도를 입력해주세요: 50\n",
            "속도=  50.0\n",
            "거리=  200.0\n",
            "시간(Time) = 200.0 / 50.0 = 4.0\n"
          ]
        }
      ]
    },
    {
      "cell_type": "code",
      "source": [
        "# 길이와 너비를 입력 받아 면적과 둘레를 계산하여 출력하는 프로그램을 만드세요.\n",
        "\n",
        "a = int(input('길이: '))\n",
        "b = int(input('너비: '))\n",
        "print(f'면적: {a} * {b} = {a*b}')\n",
        "print(f'둘레: {a} * 2 + {b} * 2 = {a*2 + b*2}')\n",
        "\n"
      ],
      "metadata": {
        "colab": {
          "base_uri": "https://localhost:8080/"
        },
        "id": "ipoaqbkbzLk-",
        "outputId": "6bab5e5f-398c-46b9-e51c-f65f80953eaa"
      },
      "execution_count": null,
      "outputs": [
        {
          "output_type": "stream",
          "name": "stdout",
          "text": [
            "길이: 100\n",
            "너비: 20\n",
            "면적: 100 * 20 = 2000\n",
            "둘레: 100 * 2 + 20 * 2 = 240\n"
          ]
        }
      ]
    },
    {
      "cell_type": "code",
      "source": [
        "# 아래와 같이 정수 a을 입력 받아, a + aa + aaa의 결과 값을 구하는 프로그램을 작성하세요.\n",
        "\n",
        "a = int(input('정수를 입력하세요: '))\n",
        "b = 10*a + a\n",
        "c = 100*a + 10*a + a\n",
        "\n",
        "print(f'{a} + {b} + {c} = {a + b + c}')"
      ],
      "metadata": {
        "colab": {
          "base_uri": "https://localhost:8080/"
        },
        "id": "mfui__0e13xD",
        "outputId": "8d8abd53-e2b7-42e6-8e9a-0d5eabac5883"
      },
      "execution_count": null,
      "outputs": [
        {
          "output_type": "stream",
          "name": "stdout",
          "text": [
            "정수를 입력하세요: 7\n",
            "7 + 77 + 777 = 861\n"
          ]
        }
      ]
    },
    {
      "cell_type": "code",
      "source": [
        "a = input('정수를 입력하세요: ')\n",
        "b = int(a + a)\n",
        "c = int(a + a + a)\n",
        "\n",
        "print(f'{a} + {b} + {c} = {int(a) + b + c}')"
      ],
      "metadata": {
        "colab": {
          "base_uri": "https://localhost:8080/"
        },
        "id": "psujnWNZ4lGc",
        "outputId": "aaa3dfb4-18d9-455a-d99b-cee4ef66e056"
      },
      "execution_count": null,
      "outputs": [
        {
          "output_type": "stream",
          "name": "stdout",
          "text": [
            "정수를 입력하세요: 7\n",
            "7 + 77 + 777 = 861\n"
          ]
        }
      ]
    },
    {
      "cell_type": "code",
      "source": [
        "# eval() : 문자열을 숫자처럼 계산해준다.\n",
        "\n",
        "eval('3 + 4')"
      ],
      "metadata": {
        "colab": {
          "base_uri": "https://localhost:8080/"
        },
        "id": "Ye7rsR426T61",
        "outputId": "f181d4f3-5606-4ab1-a9b9-47ea88fab3a6"
      },
      "execution_count": null,
      "outputs": [
        {
          "output_type": "execute_result",
          "data": {
            "text/plain": [
              "7"
            ]
          },
          "metadata": {},
          "execution_count": 57
        }
      ]
    },
    {
      "cell_type": "code",
      "source": [
        "a = input('정수를 입력하세요: ')\n",
        "result = f'{a} + {a + a} + {a + a + a}'\n",
        "print(f'{result} = {eval(result)}')"
      ],
      "metadata": {
        "colab": {
          "base_uri": "https://localhost:8080/"
        },
        "id": "Ix43h2UC79FU",
        "outputId": "f79d1a41-8cd6-42da-c10c-798bf7ba23c4"
      },
      "execution_count": null,
      "outputs": [
        {
          "output_type": "stream",
          "name": "stdout",
          "text": [
            "정수를 입력하세요: 7\n",
            "7 + 77 + 777 = 861\n"
          ]
        }
      ]
    },
    {
      "cell_type": "markdown",
      "source": [
        "# 2일차"
      ],
      "metadata": {
        "id": "N_f0AXWdvWyE"
      }
    },
    {
      "cell_type": "markdown",
      "source": [
        "## 3. 문자열 인덱싱과 슬라이싱"
      ],
      "metadata": {
        "id": "-bZFjfIzvhEV"
      }
    },
    {
      "cell_type": "markdown",
      "source": [
        "format 함수 이용"
      ],
      "metadata": {
        "id": "qAIj36knx1Kk"
      }
    },
    {
      "cell_type": "code",
      "source": [
        "# 대입하기\n",
        "\"I eat {0} apples\".format(3)"
      ],
      "metadata": {
        "colab": {
          "base_uri": "https://localhost:8080/",
          "height": 35
        },
        "id": "PTcv1wluvaYe",
        "outputId": "abfdeeba-bf80-4d1a-f1dc-a765cfb37592"
      },
      "execution_count": null,
      "outputs": [
        {
          "output_type": "execute_result",
          "data": {
            "text/plain": [
              "'I eat 3 apples'"
            ],
            "application/vnd.google.colaboratory.intrinsic+json": {
              "type": "string"
            }
          },
          "metadata": {},
          "execution_count": 1
        }
      ]
    },
    {
      "cell_type": "code",
      "source": [
        "\"I eat {0} apples\".format(\"five\")"
      ],
      "metadata": {
        "colab": {
          "base_uri": "https://localhost:8080/",
          "height": 35
        },
        "id": "AUQT3289x_nR",
        "outputId": "a57a8568-9ed6-4640-fcca-199598f1867e"
      },
      "execution_count": null,
      "outputs": [
        {
          "output_type": "execute_result",
          "data": {
            "text/plain": [
              "'I eat five apples'"
            ],
            "application/vnd.google.colaboratory.intrinsic+json": {
              "type": "string"
            }
          },
          "metadata": {},
          "execution_count": 2
        }
      ]
    },
    {
      "cell_type": "code",
      "source": [
        "number = 5\n",
        "\"I eat {0} apples\".format(number)"
      ],
      "metadata": {
        "colab": {
          "base_uri": "https://localhost:8080/",
          "height": 35
        },
        "id": "0GSgBaFIyGHa",
        "outputId": "53fb9f1d-ec9d-4112-e095-a20b04bb23e9"
      },
      "execution_count": null,
      "outputs": [
        {
          "output_type": "execute_result",
          "data": {
            "text/plain": [
              "'I eat 5 apples'"
            ],
            "application/vnd.google.colaboratory.intrinsic+json": {
              "type": "string"
            }
          },
          "metadata": {},
          "execution_count": 5
        }
      ]
    },
    {
      "cell_type": "code",
      "source": [
        "\"I ate {0} apples. So, I'm {1}\".format(10, \"full\")"
      ],
      "metadata": {
        "colab": {
          "base_uri": "https://localhost:8080/",
          "height": 35
        },
        "id": "8acI4UbdyGKJ",
        "outputId": "a7556493-9a1d-421d-abbd-2c762d764648"
      },
      "execution_count": null,
      "outputs": [
        {
          "output_type": "execute_result",
          "data": {
            "text/plain": [
              "\"I ate 10 apples. So, I'm full\""
            ],
            "application/vnd.google.colaboratory.intrinsic+json": {
              "type": "string"
            }
          },
          "metadata": {},
          "execution_count": 6
        }
      ]
    },
    {
      "cell_type": "code",
      "source": [
        "\"I ate {0} apples. So, I'm {word}\".format(5, word = \"full\")"
      ],
      "metadata": {
        "colab": {
          "base_uri": "https://localhost:8080/",
          "height": 35
        },
        "id": "9lo_W9o0yGMb",
        "outputId": "59c852f8-c52f-4f5d-ac0e-3bd4a27ea3d4"
      },
      "execution_count": null,
      "outputs": [
        {
          "output_type": "execute_result",
          "data": {
            "text/plain": [
              "\"I ate 5 apples. So, I'm full\""
            ],
            "application/vnd.google.colaboratory.intrinsic+json": {
              "type": "string"
            }
          },
          "metadata": {},
          "execution_count": 7
        }
      ]
    },
    {
      "cell_type": "code",
      "source": [
        "# 정렬하기\n",
        "\"{0:<10}\".format(\"파이썬\")"
      ],
      "metadata": {
        "colab": {
          "base_uri": "https://localhost:8080/",
          "height": 35
        },
        "id": "LdyDLXdHyGPd",
        "outputId": "129755f4-d836-49b5-ed83-8a3a06425a13"
      },
      "execution_count": null,
      "outputs": [
        {
          "output_type": "execute_result",
          "data": {
            "text/plain": [
              "'파이썬       '"
            ],
            "application/vnd.google.colaboratory.intrinsic+json": {
              "type": "string"
            }
          },
          "metadata": {},
          "execution_count": 8
        }
      ]
    },
    {
      "cell_type": "code",
      "source": [
        "\"{0:<10}\".format(\"파이썬\")"
      ],
      "metadata": {
        "id": "iJvx2_CSypEn"
      },
      "execution_count": null,
      "outputs": []
    },
    {
      "cell_type": "code",
      "source": [
        "\"{0:>10}\".format(\"파이썬\")"
      ],
      "metadata": {
        "colab": {
          "base_uri": "https://localhost:8080/",
          "height": 35
        },
        "id": "NLxCJM2_yxjG",
        "outputId": "7bd696c4-972c-4fd2-aafc-0ece90704c3e"
      },
      "execution_count": null,
      "outputs": [
        {
          "output_type": "execute_result",
          "data": {
            "text/plain": [
              "'       파이썬'"
            ],
            "application/vnd.google.colaboratory.intrinsic+json": {
              "type": "string"
            }
          },
          "metadata": {},
          "execution_count": 9
        }
      ]
    },
    {
      "cell_type": "code",
      "source": [
        "\"{0:^10}\".format(\"파이썬\")"
      ],
      "metadata": {
        "colab": {
          "base_uri": "https://localhost:8080/",
          "height": 35
        },
        "id": "iXz83ah3yxnp",
        "outputId": "f47d1aef-aef2-44ad-f022-4e6443ea4fd5"
      },
      "execution_count": null,
      "outputs": [
        {
          "output_type": "execute_result",
          "data": {
            "text/plain": [
              "'   파이썬    '"
            ],
            "application/vnd.google.colaboratory.intrinsic+json": {
              "type": "string"
            }
          },
          "metadata": {},
          "execution_count": 10
        }
      ]
    },
    {
      "cell_type": "code",
      "source": [
        "\"{0:*^10}\".format(\"파이썬\") #공백 채우기"
      ],
      "metadata": {
        "colab": {
          "base_uri": "https://localhost:8080/",
          "height": 35
        },
        "id": "VLU18gY8y2eo",
        "outputId": "577dccf4-7cd5-4c51-9410-28787df67878"
      },
      "execution_count": null,
      "outputs": [
        {
          "output_type": "execute_result",
          "data": {
            "text/plain": [
              "'***파이썬****'"
            ],
            "application/vnd.google.colaboratory.intrinsic+json": {
              "type": "string"
            }
          },
          "metadata": {},
          "execution_count": 11
        }
      ]
    },
    {
      "cell_type": "code",
      "source": [
        "\"{0:0.4f}\".format(3.4213423)"
      ],
      "metadata": {
        "colab": {
          "base_uri": "https://localhost:8080/",
          "height": 35
        },
        "id": "trXzIiX4y5cB",
        "outputId": "d58407d3-fe54-4647-feb4-90beed048db1"
      },
      "execution_count": null,
      "outputs": [
        {
          "output_type": "execute_result",
          "data": {
            "text/plain": [
              "'3.4213'"
            ],
            "application/vnd.google.colaboratory.intrinsic+json": {
              "type": "string"
            }
          },
          "metadata": {},
          "execution_count": 12
        }
      ]
    },
    {
      "cell_type": "code",
      "source": [
        "\"{0:10.4f}\".format(3.4213423)"
      ],
      "metadata": {
        "colab": {
          "base_uri": "https://localhost:8080/",
          "height": 35
        },
        "id": "H1qypgV5zOP7",
        "outputId": "aee73d1c-9d6d-4806-ae60-2d0006d2cadf"
      },
      "execution_count": null,
      "outputs": [
        {
          "output_type": "execute_result",
          "data": {
            "text/plain": [
              "'    3.4213'"
            ],
            "application/vnd.google.colaboratory.intrinsic+json": {
              "type": "string"
            }
          },
          "metadata": {},
          "execution_count": 13
        }
      ]
    },
    {
      "cell_type": "code",
      "source": [
        "\"{{ and }}\".format()"
      ],
      "metadata": {
        "colab": {
          "base_uri": "https://localhost:8080/",
          "height": 35
        },
        "id": "vFt-FGGlzTH6",
        "outputId": "504d608f-1b78-43e6-862b-a8118b19dc2a"
      },
      "execution_count": null,
      "outputs": [
        {
          "output_type": "execute_result",
          "data": {
            "text/plain": [
              "'{ and }'"
            ],
            "application/vnd.google.colaboratory.intrinsic+json": {
              "type": "string"
            }
          },
          "metadata": {},
          "execution_count": 14
        }
      ]
    },
    {
      "cell_type": "markdown",
      "source": [
        "### 문자열 함수"
      ],
      "metadata": {
        "id": "b3yQG0490Vl5"
      }
    },
    {
      "cell_type": "code",
      "source": [
        "str(list(range(1, 10001, 1))).count('7')"
      ],
      "metadata": {
        "colab": {
          "base_uri": "https://localhost:8080/"
        },
        "id": "WuyewzrdzXL5",
        "outputId": "e38619ef-8929-47fa-8c9a-465a520c083d"
      },
      "execution_count": null,
      "outputs": [
        {
          "output_type": "execute_result",
          "data": {
            "text/plain": [
              "4000"
            ]
          },
          "metadata": {},
          "execution_count": 17
        }
      ]
    },
    {
      "cell_type": "code",
      "source": [
        "#count\n",
        "a = \"hobby\"\n",
        "a.count('b')"
      ],
      "metadata": {
        "colab": {
          "base_uri": "https://localhost:8080/"
        },
        "id": "p4BaX43z0iW1",
        "outputId": "a1328e88-786a-4950-ed3b-1493ced1bcc9"
      },
      "execution_count": null,
      "outputs": [
        {
          "output_type": "execute_result",
          "data": {
            "text/plain": [
              "2"
            ]
          },
          "metadata": {},
          "execution_count": 18
        }
      ]
    },
    {
      "cell_type": "code",
      "source": [
        "#find/index\n",
        "a = \"Python is best choice\"\n",
        "print(a.find('b'))\n",
        "print(a.index(\"b\"))\n",
        "print(a.find('is'))\n",
        "print(a.index(\"is\"))\n",
        "print(a.find('k'))\n",
        "print(a.index(\"k\"))"
      ],
      "metadata": {
        "colab": {
          "base_uri": "https://localhost:8080/",
          "height": 293
        },
        "id": "BRtAW3Cg3RXl",
        "outputId": "d047106d-0ac0-44f6-f4a0-514bbf7a54fe"
      },
      "execution_count": null,
      "outputs": [
        {
          "output_type": "stream",
          "name": "stdout",
          "text": [
            "10\n",
            "10\n",
            "7\n",
            "7\n",
            "-1\n"
          ]
        },
        {
          "output_type": "error",
          "ename": "ValueError",
          "evalue": "ignored",
          "traceback": [
            "\u001b[0;31m---------------------------------------------------------------------------\u001b[0m",
            "\u001b[0;31mValueError\u001b[0m                                Traceback (most recent call last)",
            "\u001b[0;32m<ipython-input-22-91ab4261b3ea>\u001b[0m in \u001b[0;36m<cell line: 8>\u001b[0;34m()\u001b[0m\n\u001b[1;32m      6\u001b[0m \u001b[0mprint\u001b[0m\u001b[0;34m(\u001b[0m\u001b[0ma\u001b[0m\u001b[0;34m.\u001b[0m\u001b[0mindex\u001b[0m\u001b[0;34m(\u001b[0m\u001b[0;34m\"is\"\u001b[0m\u001b[0;34m)\u001b[0m\u001b[0;34m)\u001b[0m\u001b[0;34m\u001b[0m\u001b[0;34m\u001b[0m\u001b[0m\n\u001b[1;32m      7\u001b[0m \u001b[0mprint\u001b[0m\u001b[0;34m(\u001b[0m\u001b[0ma\u001b[0m\u001b[0;34m.\u001b[0m\u001b[0mfind\u001b[0m\u001b[0;34m(\u001b[0m\u001b[0;34m'k'\u001b[0m\u001b[0;34m)\u001b[0m\u001b[0;34m)\u001b[0m\u001b[0;34m\u001b[0m\u001b[0;34m\u001b[0m\u001b[0m\n\u001b[0;32m----> 8\u001b[0;31m \u001b[0mprint\u001b[0m\u001b[0;34m(\u001b[0m\u001b[0ma\u001b[0m\u001b[0;34m.\u001b[0m\u001b[0mindex\u001b[0m\u001b[0;34m(\u001b[0m\u001b[0;34m\"k\"\u001b[0m\u001b[0;34m)\u001b[0m\u001b[0;34m)\u001b[0m\u001b[0;34m\u001b[0m\u001b[0;34m\u001b[0m\u001b[0m\n\u001b[0m",
            "\u001b[0;31mValueError\u001b[0m: substring not found"
          ]
        }
      ]
    },
    {
      "cell_type": "code",
      "source": [
        "#join\n",
        "a = \",\"\n",
        "a.join('abcd')\n",
        "\n",
        "a = '!'\n",
        "a.join('파이썬')"
      ],
      "metadata": {
        "colab": {
          "base_uri": "https://localhost:8080/",
          "height": 35
        },
        "id": "tSnHa6is3bkC",
        "outputId": "e878cd36-ad91-4ec1-b63f-64032294d99c"
      },
      "execution_count": null,
      "outputs": [
        {
          "output_type": "execute_result",
          "data": {
            "text/plain": [
              "'파!이!썬'"
            ],
            "application/vnd.google.colaboratory.intrinsic+json": {
              "type": "string"
            }
          },
          "metadata": {},
          "execution_count": 24
        }
      ]
    },
    {
      "cell_type": "code",
      "source": [
        "#upper/lower\n",
        "a = \"python\"\n",
        "print(a.upper())\n",
        "\n",
        "b = \"PYTHON\"\n",
        "b.lower()"
      ],
      "metadata": {
        "colab": {
          "base_uri": "https://localhost:8080/",
          "height": 52
        },
        "id": "0Xnc4QFx33TT",
        "outputId": "967c49b0-fed8-45b6-e370-b6501adaa7cf"
      },
      "execution_count": null,
      "outputs": [
        {
          "output_type": "stream",
          "name": "stdout",
          "text": [
            "PYTHON\n"
          ]
        },
        {
          "output_type": "execute_result",
          "data": {
            "text/plain": [
              "'python'"
            ],
            "application/vnd.google.colaboratory.intrinsic+json": {
              "type": "string"
            }
          },
          "metadata": {},
          "execution_count": 26
        }
      ]
    },
    {
      "cell_type": "code",
      "source": [
        "#strip(공백 지우기)/lstrip(왼쪽 공백 지우기)/rstrip(오른쪽 공백 지우기)\n",
        "a = \" 파이썬 \"\n",
        "print(a.strip())\n",
        "print(a.lstrip())\n",
        "print(a.rstrip())"
      ],
      "metadata": {
        "colab": {
          "base_uri": "https://localhost:8080/"
        },
        "id": "P8LX9yya4NAc",
        "outputId": "a87b2fb9-033a-4805-eccf-b462633d1780"
      },
      "execution_count": null,
      "outputs": [
        {
          "output_type": "stream",
          "name": "stdout",
          "text": [
            "파이썬\n",
            "파이썬 \n",
            " 파이썬\n"
          ]
        }
      ]
    },
    {
      "cell_type": "code",
      "source": [
        "#replace\n",
        "a = \"Life is too short\"\n",
        "a.replace(\"Life\", \"Your leg\")"
      ],
      "metadata": {
        "colab": {
          "base_uri": "https://localhost:8080/",
          "height": 35
        },
        "id": "4uwC7RRU4oj7",
        "outputId": "902b8fab-b79b-46e1-c222-813c12b3e29c"
      },
      "execution_count": null,
      "outputs": [
        {
          "output_type": "execute_result",
          "data": {
            "text/plain": [
              "'Your leg is too short'"
            ],
            "application/vnd.google.colaboratory.intrinsic+json": {
              "type": "string"
            }
          },
          "metadata": {},
          "execution_count": 29
        }
      ]
    },
    {
      "cell_type": "code",
      "source": [
        "#split\n",
        "a = \"Life is too short\"\n",
        "a.split()"
      ],
      "metadata": {
        "colab": {
          "base_uri": "https://localhost:8080/"
        },
        "id": "fW_4fUua4uXn",
        "outputId": "ce952b63-e68e-4681-e8ea-000284e0ed14"
      },
      "execution_count": null,
      "outputs": [
        {
          "output_type": "execute_result",
          "data": {
            "text/plain": [
              "['Life', 'is', 'too', 'short']"
            ]
          },
          "metadata": {},
          "execution_count": 30
        }
      ]
    },
    {
      "cell_type": "code",
      "source": [
        "a = \"a,b,c,d\"\n",
        "a.split(',')"
      ],
      "metadata": {
        "colab": {
          "base_uri": "https://localhost:8080/"
        },
        "id": "bIiyG1514_Z_",
        "outputId": "5dfde5a2-f1f6-444d-9b0f-75ed06bcfcae"
      },
      "execution_count": null,
      "outputs": [
        {
          "output_type": "execute_result",
          "data": {
            "text/plain": [
              "['a', 'b', 'c', 'd']"
            ]
          },
          "metadata": {},
          "execution_count": 31
        }
      ]
    },
    {
      "cell_type": "code",
      "source": [
        "s = input('문자열을 입력하세요: ')\n",
        "s[::-1]"
      ],
      "metadata": {
        "colab": {
          "base_uri": "https://localhost:8080/",
          "height": 52
        },
        "id": "VYZFlypa5G6p",
        "outputId": "3b884db9-2467-4f3b-d00e-05ef3400ae85"
      },
      "execution_count": null,
      "outputs": [
        {
          "name": "stdout",
          "output_type": "stream",
          "text": [
            "문자열을 입력하세요: 사랑해요 파이썬!\n"
          ]
        },
        {
          "output_type": "execute_result",
          "data": {
            "text/plain": [
              "'!썬이파 요해랑사'"
            ],
            "application/vnd.google.colaboratory.intrinsic+json": {
              "type": "string"
            }
          },
          "metadata": {},
          "execution_count": 33
        }
      ]
    },
    {
      "cell_type": "code",
      "source": [
        "a = input('파일을 입력하세요: ')\n",
        "b = a.split('.')\n",
        "print('파일명: ' + b[0] + ', ' + '확장자: ' + b[1])"
      ],
      "metadata": {
        "colab": {
          "base_uri": "https://localhost:8080/"
        },
        "id": "B-YCVuRx_iKk",
        "outputId": "a3302197-9088-44fd-eeea-e4ba82e4f62a"
      },
      "execution_count": null,
      "outputs": [
        {
          "output_type": "stream",
          "name": "stdout",
          "text": [
            "파일을 입력하세요: test.py\n",
            "파일명: test, 확장자: py\n"
          ]
        }
      ]
    },
    {
      "cell_type": "markdown",
      "source": [
        "날짜와 시간 관련 모듈 : datetime"
      ],
      "metadata": {
        "id": "MlWfR0WnDpyv"
      }
    },
    {
      "cell_type": "code",
      "source": [
        "import datetime\n",
        "\n",
        "now = str(datetime.datetime.now())\n",
        "print(f'값    : {now}')\n",
        "print(f'자료형 : {type(now)}')\n",
        "\n",
        "print(f'지금 시각은 {now[:4]}년 {now[5:7]}월 {now[8:10]}일 {now[11:13]}시 {now[14:16]}분 {now[17:19]}초 입니다.')"
      ],
      "metadata": {
        "colab": {
          "base_uri": "https://localhost:8080/"
        },
        "id": "HfskrBqUAoO9",
        "outputId": "c039940e-ac87-40ba-cf6a-bbc28bff32b8"
      },
      "execution_count": null,
      "outputs": [
        {
          "output_type": "stream",
          "name": "stdout",
          "text": [
            "값    : 2023-08-08 03:04:49.802854\n",
            "자료형 : <class 'str'>\n",
            "지금 시각은 2023년 08월 08일 03시 04분 49초 입니다.\n"
          ]
        }
      ]
    },
    {
      "cell_type": "code",
      "source": [
        "import datetime\n",
        "\n",
        "now = datetime.datetime.now()\n",
        "print(now.strftime('지금 시간은 %Y년 %m월 %d일 %H시 %M분 5S초 입니다.'))"
      ],
      "metadata": {
        "colab": {
          "base_uri": "https://localhost:8080/"
        },
        "id": "srB8ljerEtMC",
        "outputId": "091e8e80-9b5a-494c-cb8c-525172c4d122"
      },
      "execution_count": null,
      "outputs": [
        {
          "output_type": "stream",
          "name": "stdout",
          "text": [
            "지금 시간은 2023년 08월 08일 03시 17분 5S초 입니다.\n"
          ]
        }
      ]
    },
    {
      "cell_type": "markdown",
      "source": [
        "- 아래 코드는 네이버 환율 페이지에서 환율 기준시간과 달러 정보를 가져오는 코드이다. 이 코드를 참고하여 유로화 정보와 위안화 정보를 가져와 출력해 보세요.\n"
      ],
      "metadata": {
        "id": "EVIGdJU6LQfL"
      }
    },
    {
      "cell_type": "code",
      "source": [
        "import urllib.request\n",
        "import ssl\n",
        "\n",
        "ctx = ssl._create_unverified_context()\n",
        "\n",
        "#환율정보 페이지 불러오기\n",
        "print(\"[환율정보 불러오기]\")\n",
        "URL = \"https://search.naver.com/search.naver?where=nexearch&sm=top_hty&fbm=1&ie=utf8&query=%ED%99%98%EC%9C%A8\"\n",
        "page = urllib.request.urlopen(URL, context=ctx)\n",
        "text = page.read().decode(\"utf8\")  # 해당 페이지의 소스코드\n",
        "# print(text)\n",
        "\n",
        "#환율정보 가져오기: 기준시간\n",
        "searchText = 'class=\"grp_info\"> <em>'\n",
        "where      = text.find(searchText)  #소스코드에서 해당 문자열의 시작위치\n",
        "targetInfo = text[where+len(searchText):where+len(searchText)+16]\n",
        "print(f'-환율기준시간: {targetInfo}')\n",
        "\n",
        "#환율정보 가져오기: 달러\n",
        "searchText = '<span>미국 <em>USD</em></span></a></th> <td><span>'\n",
        "where      = text.find(searchText)\n",
        "targetInfo = text[where+len(searchText):where+len(searchText)+8]\n",
        "print(f'-달러: {targetInfo}')\n",
        "\n",
        "#환율정보 가져오기: 유로\n",
        "searchText = '<span>유럽연합 <em>EUR</em></span></a></th> <td><span>'\n",
        "where      = text.find(searchText)\n",
        "targetInfo = text[where+len(searchText):where+len(searchText)+8]\n",
        "print(f'-유로: {targetInfo}')\n",
        "\n",
        "#환율정보 가져오기: 위안\n",
        "searchText = '<span>중국 <em>CNY</em></span></a></th> <td><span>'\n",
        "where      = text.find(searchText)\n",
        "targetInfo = text[where+len(searchText):where+len(searchText)+6]\n",
        "print(f'-위안: {targetInfo}')\n",
        "\n",
        "#환율정보 가져오기: 엔화\n",
        "searchText = '<span>일본 <em>JPY 100</em></span></a></th> <td><span>'\n",
        "where      = text.find(searchText)\n",
        "targetInfo = text[where+len(searchText):where+len(searchText)+6]\n",
        "print(f'-엔화: {targetInfo}')\n",
        "\n",
        "#환율정보 가져오기: 파운드\n",
        "searchText = '<span>영국 <em>GBP</em></span></a></th> <td><span>'\n",
        "where      = text.find(searchText)\n",
        "targetInfo = text[where+len(searchText):where+len(searchText)+8]\n",
        "print(f'-파운드: {targetInfo}')\n",
        "#-----------------------------------------------------------------"
      ],
      "metadata": {
        "colab": {
          "base_uri": "https://localhost:8080/"
        },
        "id": "B8B3eIVOJnmE",
        "outputId": "9b9a2d55-c645-4cbe-ce31-51f610bf5537"
      },
      "execution_count": null,
      "outputs": [
        {
          "output_type": "stream",
          "name": "stdout",
          "text": [
            "[환율정보 불러오기]\n",
            "-환율기준시간: 2023.08.08 12:47\n",
            "-달러: 1,314.00\n",
            "-유로: 1,443.23\n",
            "-위안: 181.94\n",
            "-엔화: 916.73\n",
            "-파운드: 1,675.74\n"
          ]
        }
      ]
    },
    {
      "cell_type": "markdown",
      "source": [
        "## 4. 파이썬 연산자"
      ],
      "metadata": {
        "id": "vA_0NpdmTKzV"
      }
    },
    {
      "cell_type": "code",
      "source": [
        "s = int(input('동전으로 교환할 금액을 입력하세요: '))\n",
        "\n",
        "f = s // 500\n",
        "print(f'500원짜리 동전: {s //500}개')\n",
        "s %= 500\n",
        "print(f'100짜리 동전: {s // 100}개')\n",
        "s = s % 100\n",
        "print(f'50원짜리 동전: {s // 50}개')\n",
        "s %= 50\n",
        "print(f'10원짜리 동전: {s // 10}개')\n",
        "s %= 10\n",
        "print(f'잔돈: {s}개')"
      ],
      "metadata": {
        "id": "3rB5Z0UCPDnc",
        "colab": {
          "base_uri": "https://localhost:8080/"
        },
        "outputId": "e6842c5c-0acb-4a05-b348-7f215f439f56"
      },
      "execution_count": null,
      "outputs": [
        {
          "output_type": "stream",
          "name": "stdout",
          "text": [
            "동전으로 교환할 금액을 입력하세요: 4321\n",
            "500원짜리 동전: 8개\n",
            "100짜리 동전: 3개\n",
            "50원짜리 동전: 0개\n",
            "10원짜리 동전: 2개\n",
            "잔돈: 1개\n"
          ]
        }
      ]
    },
    {
      "cell_type": "code",
      "source": [
        "s = int(input('교환할 금액을 입력하세요: '))\n",
        "\n",
        "a = []\n",
        "lst = [50000, 10000, 5000, 1000, 500, 100, 50, 10]\n",
        "\n",
        "for i in lst:\n",
        "  a.append(s // i)\n",
        "  s = s % i\n",
        "\n",
        "print(f'지폐: 50000원 {a[0]}장, 10000원 {a[1]}장, 5000원 {a[2]}장, 1000원 {a[3]}장 \\n동전: 500원 {a[4]}개, 100원 {a[5]}개, 50원 {a[6]}개, 10원 {a[7]}개 \\n잔돈: {s}원')\n"
      ],
      "metadata": {
        "colab": {
          "base_uri": "https://localhost:8080/"
        },
        "id": "H6slApRFncLX",
        "outputId": "d6849e23-b1bf-44bb-8173-8d05281e7e55"
      },
      "execution_count": null,
      "outputs": [
        {
          "output_type": "stream",
          "name": "stdout",
          "text": [
            "교환할 금액을 입력하세요: 657890\n",
            "지폐: 50000원 13장, 10000원 0장, 5000원 1장, 1000원 2장 \n",
            "동전: 500원 1개, 100원 3개, 50원 1개, 10원 4개 \n",
            "잔돈: 0원\n"
          ]
        }
      ]
    },
    {
      "cell_type": "markdown",
      "source": [
        "# 3. 제어문(조건문, 반복문)"
      ],
      "metadata": {
        "id": "SDE5P2ihtk4P"
      }
    },
    {
      "cell_type": "markdown",
      "source": [
        "## 1. if 조건문"
      ],
      "metadata": {
        "id": "WVynx9igtIyD"
      }
    },
    {
      "cell_type": "code",
      "source": [
        "# if 조건문\n",
        "\n",
        "a = 1500\n",
        "if a < 1000:\n",
        "  print(f'{a}는 1000보다 작군요!')\n",
        "else:\n",
        "  print(f'{a}는 1000보다 크거나 같군요!')"
      ],
      "metadata": {
        "colab": {
          "base_uri": "https://localhost:8080/"
        },
        "id": "BXlxusrtrS4d",
        "outputId": "fdcf6f46-1722-4adf-d6f2-c1d1d82359af"
      },
      "execution_count": null,
      "outputs": [
        {
          "output_type": "stream",
          "name": "stdout",
          "text": [
            "1500는 1000보다 크거나 같군요!\n"
          ]
        }
      ]
    },
    {
      "cell_type": "code",
      "source": [
        "# 중첩 if ~ 문\n",
        "온도 = float(input('온도를 입력해주세요: '))\n",
        "\n",
        "if 온도 > 30:\n",
        "  if 온도 > 35:\n",
        "    print('무척 덥군요!')\n",
        "  else:\n",
        "    print('덥군요!')\n",
        "else:\n",
        "  if 10 < 온도 <= 30:\n",
        "    print('쾌적한 온도입니다!')\n",
        "  else:\n",
        "    print('추운 온도네요!')"
      ],
      "metadata": {
        "colab": {
          "base_uri": "https://localhost:8080/"
        },
        "id": "vfnpPqiqtTGe",
        "outputId": "9297ce76-eea0-4cee-c403-be01ffbe48ba"
      },
      "execution_count": null,
      "outputs": [
        {
          "output_type": "stream",
          "name": "stdout",
          "text": [
            "온도를 입력해주세요: 37\n",
            "무척 덥군요!\n"
          ]
        }
      ]
    },
    {
      "cell_type": "code",
      "source": [
        "# if ~ elif ~ else ~\n",
        "온도 = float(input('온도를 입력해주세요: '))\n",
        "\n",
        "if 온도 > 35:\n",
        "  print('무척 덥군요!')\n",
        "elif 온도 > 30:\n",
        "  print('덥군요!')\n",
        "elif 온도 > 10:\n",
        "  print('쾌적한 온도입니다!')\n",
        "else:\n",
        "  print('추운 온도네요!')"
      ],
      "metadata": {
        "colab": {
          "base_uri": "https://localhost:8080/"
        },
        "id": "RaNc4CNpvAA-",
        "outputId": "3ac41337-a9a6-491e-858c-5730b6cd72e5"
      },
      "execution_count": null,
      "outputs": [
        {
          "output_type": "stream",
          "name": "stdout",
          "text": [
            "온도를 입력해주세요: 21\n",
            "쾌적한 온도입니다!\n"
          ]
        }
      ]
    },
    {
      "cell_type": "code",
      "source": [
        "# 멕안돼,,,\n",
        "# if ~ elif~ else ~\n",
        "# pip install pywin32    pywin32 라이브러리 인스톨하고 tts 기능 이용한다.\n",
        "import win32com.client\n",
        "\n",
        "tts = win32com.client.Dispatch(\"SAPI.SpVoice\")\n",
        "tts.Speak('조건문 만들기 프로그램입니다.')\n",
        "\n",
        "tts.Speak('온도를 입력해주세요:')\n",
        "온도 = float(input('온도를 입력해주세요: '))\n",
        "\n",
        "speak = ''\n",
        "if 온도 > 35:\n",
        "    speak = '무척 덥군요!'\n",
        "elif 온도 > 30:\n",
        "    speak = '덥군요!'\n",
        "elif 온도 > 10:\n",
        "    speak = '쾌적한 온도 입니다!'\n",
        "else:\n",
        "    speak = '추운 온도네요!'\n",
        "\n",
        "print(speak)\n",
        "tts.Speak(speak)"
      ],
      "metadata": {
        "id": "n2gM1V2VwFfB"
      },
      "execution_count": null,
      "outputs": []
    },
    {
      "cell_type": "code",
      "source": [
        "x = int(input('숫자를 입력해 주세요: '))\n",
        "\n",
        "if x % 2 == 0:\n",
        "  print(f'입력된 수 : {x} ==> 짝수')\n",
        "else:\n",
        "  print(f'입력된 수 : {x} ==> 홀수')"
      ],
      "metadata": {
        "colab": {
          "base_uri": "https://localhost:8080/"
        },
        "id": "Gb0tzbUT2O-1",
        "outputId": "be3afc77-cd5b-490b-ce61-82018281ac43"
      },
      "execution_count": null,
      "outputs": [
        {
          "output_type": "stream",
          "name": "stdout",
          "text": [
            "숫자를 입력해 주세요: 22\n",
            "입력된 수 : 22 ==> 짝수\n"
          ]
        }
      ]
    },
    {
      "cell_type": "code",
      "source": [
        "score = float(input('성적을 입력해 주세요: '))\n",
        "print(\"-\"*20)\n",
        "\n",
        "if score >= 90:\n",
        "  grade = \"A\"\n",
        "elif score >= 80:\n",
        "  grade = \"B\"\n",
        "elif score >= 70:\n",
        "  grade = \"c\"\n",
        "else:\n",
        "  grade = \"D\"\n",
        "\n",
        "print(f'성적: {score}는 {grade}등급 입니다.')"
      ],
      "metadata": {
        "colab": {
          "base_uri": "https://localhost:8080/"
        },
        "id": "9iRYezXx2xlO",
        "outputId": "26bad671-7cc9-4b5f-e564-7d269861702d"
      },
      "execution_count": null,
      "outputs": [
        {
          "output_type": "stream",
          "name": "stdout",
          "text": [
            "성적을 입력해 주세요: 85\n",
            "--------------------\n",
            "성적: 85는 B등급 입니다.\n"
          ]
        }
      ]
    },
    {
      "cell_type": "code",
      "source": [
        "온도 = int(input('온도를 입력해주세요: '))\n",
        "\n",
        "if 온도 >= 30:\n",
        "  print('에어컨을 켜세요.')\n",
        "elif 온도 < 15:\n",
        "  print('내복을 입어요.')\n",
        "elif 온도 <= 10:\n",
        "  print('난방기를 켜세요.')\n",
        "else:\n",
        "  print('쾌적한 온도입니다.')"
      ],
      "metadata": {
        "colab": {
          "base_uri": "https://localhost:8080/"
        },
        "id": "NOzYMhRg4cjC",
        "outputId": "323d4807-4f3b-40fc-9096-c63032ccf872"
      },
      "execution_count": null,
      "outputs": [
        {
          "output_type": "stream",
          "name": "stdout",
          "text": [
            "온도를 입력해주세요: 34\n",
            "에어컨을 켜세요.\n"
          ]
        }
      ]
    },
    {
      "cell_type": "code",
      "source": [
        "n = str(input('주민번호 : '))\n",
        "\n",
        "\n",
        "import datetime\n",
        "now = datetime.datetime.now()\n",
        "y = int(now.year)\n",
        "\n",
        "\n",
        "if n[7] == '1':\n",
        "  print(f'19{n[:2]}년 {n[2:4]}월 {n[4:6]}일, {y-1900-int(n[:2])}, 남성')\n",
        "if n[7] == '2':\n",
        "  print(f'19{n[:2]}년 {n[2:4]}월 {n[4:6]}일, {y-1900-int(n[:2])}, 여성')\n",
        "if n[7] == '3':\n",
        "  print(f'20{n[:2]}년 {n[2:4]}월 {n[4:6]}일, {y-2000-int(n[:2])}, 남성')\n",
        "if n[7] == '4':\n",
        "  print(f'20{n[:2]}년 {n[2:4]}월 {n[4:6]}일, {y-2000-int(n[:2])}, 여성')\n",
        "\n",
        "\n"
      ],
      "metadata": {
        "colab": {
          "base_uri": "https://localhost:8080/"
        },
        "id": "qzuscrVN78Lf",
        "outputId": "c014d77a-493a-4882-fcd0-07dc61031258"
      },
      "execution_count": null,
      "outputs": [
        {
          "output_type": "stream",
          "name": "stdout",
          "text": [
            "주민번호 : 870701-2409184\n",
            "1987년 07월 01일, 36, 여성\n"
          ]
        }
      ]
    },
    {
      "cell_type": "code",
      "source": [
        "userid = input('주민번호: ')\n",
        "yy = userid[:2]   # 년도\n",
        "mm = userid[2:4]  # 월\n",
        "dd = userid[4:6]  # 일\n",
        "\n",
        "#yy, mm, dd = userid[:2], userid[2:4], userid[4:6]\n",
        "\n",
        "# gender확인\n",
        "if userid[7] == '1':\n",
        "  gender = '남성'\n",
        "  yy = 1900 + int(yy)\n",
        "if userid[7] == '2':\n",
        "  gender = '여성'\n",
        "  yy = 1900 + int(yy)\n",
        "if userid[7] == '3':\n",
        "  gender = '남성'\n",
        "  yy = 2000 + int(yy)\n",
        "if userid[7] == '4':\n",
        "  gender = '여성'\n",
        "  yy = 2000 + int(yy)\n",
        "\n",
        "import datetime\n",
        "now  = datetime.datetime.now()\n",
        "age = now.year - yy       # 나이 계산\n",
        "\n",
        "print(f'{yy}년 {mm}월 {dd}일, {age}세, {gender}')"
      ],
      "metadata": {
        "id": "S-vH1dxJAtf3"
      },
      "execution_count": null,
      "outputs": []
    },
    {
      "cell_type": "markdown",
      "source": [
        "##[실습문제] 키오스크 주문 프로그램 만들기"
      ],
      "metadata": {
        "id": "lUTT4shDFw-C"
      }
    },
    {
      "cell_type": "code",
      "source": [
        "c1p = 2500\n",
        "c2p = 3000\n",
        "c3p = 3000\n",
        "\n",
        "menu = f'''[커피 자동주문 머신 메뉴]\n",
        "------------------\n",
        "-아메리카노:  {c1p}원\n",
        "-카페라떼:   {c2p}원\n",
        "-카푸치노:   {c3p}원\n",
        "------------------\n",
        "원하시는 커피종류와 잔수를 입력하세요!\n",
        "'''\n",
        "print(menu)\n",
        "coffee1 = int(input('아메리카노 몇잔: '))\n",
        "coffee2 = int(input('카페라떼 몇잔: '))\n",
        "coffee3 = int(input('카푸치노 몇잔: '))\n",
        "\n",
        "total = c1p * coffee1 + c2p * coffee2 + c3p * coffee3\n",
        "print(f'주문하신 총 가격은 {total}입니다.')\n",
        "\n",
        "money = int(input('돈을 입력해주세요: '))\n",
        "if total > money:\n",
        "  print(f'{total-money}원이 부족합니다. 돈을 더 넣어주세요.')\n",
        "else:\n",
        "  print(f'잔돈은 {abs(money-total)}입니다. 커피 맛있게 드세요~')"
      ],
      "metadata": {
        "colab": {
          "base_uri": "https://localhost:8080/"
        },
        "id": "BZnwrMuZFqOZ",
        "outputId": "a9880378-4e71-4887-c307-081cde37d8ae"
      },
      "execution_count": null,
      "outputs": [
        {
          "output_type": "stream",
          "name": "stdout",
          "text": [
            "[커피 자동주문 머신 메뉴]\n",
            "------------------\n",
            "-아메리카노:  2500원 \n",
            "-카페라떼:   3000원\n",
            "-카푸치노:   3000원\n",
            "------------------\n",
            "원하시는 커피종류와 잔수를 입력하세요!\n",
            "\n",
            "아메리카노 몇잔: 6\n",
            "카페라떼 몇잔: 3\n",
            "카푸치노 몇잔: 1\n",
            "주문하신 총 가격은 27000입니다.\n",
            "돈을 입력해주세요: 30000\n",
            "잔돈은 3000입니다. 커피 맛있게 드세요~\n"
          ]
        }
      ]
    },
    {
      "cell_type": "markdown",
      "source": [
        "2. for 반복문\n"
      ],
      "metadata": {
        "id": "2H9AUioc1emJ"
      }
    },
    {
      "cell_type": "code",
      "source": [
        "n = input('합계를 구할 숫자를 입력하세요: ')\n",
        "if n :\n",
        "  hap = 0\n",
        "  for i in range(1, int(n)+1):\n",
        "    hap += i\n",
        "  print(f'1~{n}까지 정수의 합은: {hap}')\n",
        "else:\n",
        "  print('숫자를 입력해 주세요!')"
      ],
      "metadata": {
        "id": "oIqLv3SD1dpI"
      },
      "execution_count": null,
      "outputs": []
    },
    {
      "cell_type": "markdown",
      "source": [
        "##[실습문제] 괄호 체크 프로그램 만들기"
      ],
      "metadata": {
        "id": "lOrKqsgWOrJo"
      }
    },
    {
      "cell_type": "code",
      "source": [
        "a = list(input('괄호 문장을 입력하세요: '))\n",
        "print(a)\n",
        "\n",
        "t = 0\n",
        "for i in a:\n",
        "  if i == '(':\n",
        "    t += 1\n",
        "  elif i == ')':\n",
        "    t -= 1\n",
        "  if t < 0:\n",
        "    break\n",
        "\n",
        "\n",
        "if t == 0:\n",
        "  print('True')\n",
        "else:\n",
        "  print('False')"
      ],
      "metadata": {
        "id": "srlBOwMWHjnU",
        "colab": {
          "base_uri": "https://localhost:8080/"
        },
        "outputId": "7f4421d2-065a-4aab-ee41-7a7516929e12"
      },
      "execution_count": 6,
      "outputs": [
        {
          "output_type": "stream",
          "name": "stdout",
          "text": [
            "괄호 문장을 입력하세요: (())()\n",
            "['(', '(', ')', ')', '(', ')']\n",
            "(\n",
            "(\n",
            ")\n",
            ")\n",
            "(\n",
            ")\n",
            "True\n"
          ]
        }
      ]
    },
    {
      "cell_type": "markdown",
      "source": [
        "구구단 출력하기"
      ],
      "metadata": {
        "id": "3QC5-kpUT6B1"
      }
    },
    {
      "cell_type": "code",
      "source": [
        "a = int(input('몇단을 출력할까요?: '))\n",
        "\n",
        "for i in range(1,10):\n",
        "  r = a * i\n",
        "  print(f'{a} x {i} = {r:>2}') # :>2 -> 2자리 오른쪽 정렬"
      ],
      "metadata": {
        "colab": {
          "base_uri": "https://localhost:8080/"
        },
        "id": "-G7cM7cUO6xm",
        "outputId": "6ea40516-5acf-47bc-b4fc-6e5c4b26ba98"
      },
      "execution_count": 13,
      "outputs": [
        {
          "output_type": "stream",
          "name": "stdout",
          "text": [
            "몇단을 출력할까요?: 9\n",
            "9 x 1 =  9\n",
            "9 x 2 = 18\n",
            "9 x 3 = 27\n",
            "9 x 4 = 36\n",
            "9 x 5 = 45\n",
            "9 x 6 = 54\n",
            "9 x 7 = 63\n",
            "9 x 8 = 72\n",
            "9 x 9 = 81\n"
          ]
        }
      ]
    },
    {
      "cell_type": "markdown",
      "source": [
        "구구단 전체 출력하기"
      ],
      "metadata": {
        "id": "3Yk2Tx4JZlqa"
      }
    },
    {
      "cell_type": "code",
      "source": [
        "for i in range(1,10):\n",
        "  for k in range(2,10):\n",
        "    print(f'{k} x {i} = {i*k:>2}', end = '  ')\n",
        "  print()"
      ],
      "metadata": {
        "colab": {
          "base_uri": "https://localhost:8080/"
        },
        "id": "Umto95pZUb1S",
        "outputId": "ce3c24c6-93f1-46da-fa8a-76b36dd02837"
      },
      "execution_count": 15,
      "outputs": [
        {
          "output_type": "stream",
          "name": "stdout",
          "text": [
            "2 x 1 =  2  3 x 1 =  3  4 x 1 =  4  5 x 1 =  5  6 x 1 =  6  7 x 1 =  7  8 x 1 =  8  9 x 1 =  9  \n",
            "2 x 2 =  4  3 x 2 =  6  4 x 2 =  8  5 x 2 = 10  6 x 2 = 12  7 x 2 = 14  8 x 2 = 16  9 x 2 = 18  \n",
            "2 x 3 =  6  3 x 3 =  9  4 x 3 = 12  5 x 3 = 15  6 x 3 = 18  7 x 3 = 21  8 x 3 = 24  9 x 3 = 27  \n",
            "2 x 4 =  8  3 x 4 = 12  4 x 4 = 16  5 x 4 = 20  6 x 4 = 24  7 x 4 = 28  8 x 4 = 32  9 x 4 = 36  \n",
            "2 x 5 = 10  3 x 5 = 15  4 x 5 = 20  5 x 5 = 25  6 x 5 = 30  7 x 5 = 35  8 x 5 = 40  9 x 5 = 45  \n",
            "2 x 6 = 12  3 x 6 = 18  4 x 6 = 24  5 x 6 = 30  6 x 6 = 36  7 x 6 = 42  8 x 6 = 48  9 x 6 = 54  \n",
            "2 x 7 = 14  3 x 7 = 21  4 x 7 = 28  5 x 7 = 35  6 x 7 = 42  7 x 7 = 49  8 x 7 = 56  9 x 7 = 63  \n",
            "2 x 8 = 16  3 x 8 = 24  4 x 8 = 32  5 x 8 = 40  6 x 8 = 48  7 x 8 = 56  8 x 8 = 64  9 x 8 = 72  \n",
            "2 x 9 = 18  3 x 9 = 27  4 x 9 = 36  5 x 9 = 45  6 x 9 = 54  7 x 9 = 63  8 x 9 = 72  9 x 9 = 81  \n"
          ]
        }
      ]
    },
    {
      "cell_type": "markdown",
      "source": [
        "- 난수"
      ],
      "metadata": {
        "id": "JFBCfvxY0H0I"
      }
    },
    {
      "cell_type": "code",
      "source": [
        "import random\n",
        "\n",
        "# 임의의 정수\n",
        "print( random.randint(1, 10)  )       # 1~10까지 정수 중 하나 선택\n",
        "print( random.randrange(1, 11, 1) )   # 1~11미만 정수 중 하나 선택\n",
        "\n",
        "# 임의의 실수\n",
        "print( random.random() )              # 0~1 사이의 임의의 실수\n",
        "print( random.uniform(0.5, 1) )       # start~end 사이의 임의의 실수\n",
        "\n",
        "# 리스트 섞기\n",
        "a = [1,2,3,4,5,6,7,8,9,10]\n",
        "print(a)\n",
        "random.shuffle(a)\n",
        "print(a)\n",
        "\n",
        "# 리스트 요소 중에 하나 선택하기\n",
        "print(random.choice(a))\n",
        "\n",
        "# 리스트 요소 중에 개수 지정해서 선택하기\n",
        "print('로또번호 출력: ',random.sample(range(1,46), 6))\n",
        "print('로또번호 정렬해서 출력: ',sorted(random.sample(range(1,46), 6)) )"
      ],
      "metadata": {
        "colab": {
          "base_uri": "https://localhost:8080/"
        },
        "id": "C5Hh9MH40aiC",
        "outputId": "f6ff2b18-43e3-4de4-e22b-14e00d972a0f"
      },
      "execution_count": 2,
      "outputs": [
        {
          "output_type": "stream",
          "name": "stdout",
          "text": [
            "6\n",
            "7\n",
            "0.020062446783795984\n",
            "0.6973356392343004\n",
            "[1, 2, 3, 4, 5, 6, 7, 8, 9, 10]\n",
            "[2, 7, 9, 10, 4, 5, 8, 3, 6, 1]\n",
            "8\n",
            "로또번호 출력:  [14, 23, 17, 34, 22, 39]\n",
            "로또번호 정렬해서 출력:  [1, 11, 16, 18, 32, 41]\n"
          ]
        }
      ]
    },
    {
      "cell_type": "markdown",
      "source": [
        "아래와 같이 조건문과 반복문을 이용하여 2개의 주사위를 던져 나온 두 수를 비교하는 프로그램을 만드세요. (총 5번 시도하는 프로그램입니다)"
      ],
      "metadata": {
        "id": "Wkj4pjHp0Ltj"
      }
    },
    {
      "cell_type": "code",
      "source": [
        "print('주사위 던지기 게임입니다.')\n",
        "\n",
        "\n",
        "for i in range(1,6):\n",
        "  print(f'--{i}번째 시도'+'-'*10)\n",
        "  a = random.randint(1,6)\n",
        "  b = random.randint(1,6)\n",
        "  if a > b:\n",
        "    print(f'주사위 결과: 첫번째{[a]} 두번째{[b]}\\n첫번째 주사위가 이겼습니다.')\n",
        "  elif a < b:\n",
        "    print(f'주사위 결과: 첫번째{[a]} 두번째{[b]}\\n두번째 주사위가 이겼습니다.')\n",
        "  else:\n",
        "    print(f'주사위 결과: 첫번째{[a]} 두번째{[b]}\\n두 주사위가 비겼습니다.')"
      ],
      "metadata": {
        "colab": {
          "base_uri": "https://localhost:8080/"
        },
        "id": "ZYZkImqMaGl0",
        "outputId": "0bec7b2f-c007-43a7-faeb-c1438a11053a"
      },
      "execution_count": 9,
      "outputs": [
        {
          "output_type": "stream",
          "name": "stdout",
          "text": [
            "주사위 던지기 게임입니다.\n",
            "--1번째 시도----------\n",
            "주사위 결과: 첫번째[6] 두번째[4]\n",
            "첫번째 주사위가 이겼습니다.\n",
            "--2번째 시도----------\n",
            "주사위 결과: 첫번째[3] 두번째[4]\n",
            "두번째 주사위가 이겼습니다.\n",
            "--3번째 시도----------\n",
            "주사위 결과: 첫번째[1] 두번째[1]\n",
            "두 주사위가 비겼습니다.\n",
            "--4번째 시도----------\n",
            "주사위 결과: 첫번째[4] 두번째[6]\n",
            "두번째 주사위가 이겼습니다.\n",
            "--5번째 시도----------\n",
            "주사위 결과: 첫번째[4] 두번째[1]\n",
            "첫번째 주사위가 이겼습니다.\n"
          ]
        }
      ]
    },
    {
      "cell_type": "markdown",
      "source": [
        "[실습문제]한 개의 주사위를 100번 던져 나오는 숫자를 각 숫자별로 카운트하고 가장 많이 나온 숫자를 찾는 프로그램을 만드세요."
      ],
      "metadata": {
        "id": "Hm_9V6im5qTe"
      }
    },
    {
      "cell_type": "code",
      "source": [],
      "metadata": {
        "id": "c1cm43sAJcMx"
      },
      "execution_count": null,
      "outputs": []
    },
    {
      "cell_type": "code",
      "source": [
        "import random\n",
        "\n",
        "dice = [0,0,0,0,0,0]\n",
        "for i in range(10):\n",
        "  num = random.randint(1, 6)\n",
        "  dice[num-1] = dice[num-1] + 1\n",
        "  print(f'{i+1}회 시도 - 나온 수({num}), 주사위:{dice}')"
      ],
      "metadata": {
        "id": "C351Ypcs5sxN"
      },
      "execution_count": null,
      "outputs": []
    },
    {
      "cell_type": "code",
      "source": [
        "# 중복값 처리 안된 코드\n",
        "import random\n",
        "\n",
        "dice = [0,0,0,0,0,0]\n",
        "for i in range(100):\n",
        "  num = random.randint(1, 6)\n",
        "  dice[num-1] = dice[num-1] + 1\n",
        "  # print(f'{i+1}회 시도 - 나온 수({num}), 주사위:{dice}')\n",
        "\n",
        "print(f'주사위 숫자의 나온 횟수: {dice}')\n",
        "print(f'가장 큰 횟수: {max(dice)}의 주사위 눈금은: {dice.index( max(dice) )+1} ')"
      ],
      "metadata": {
        "id": "QxNaqQ9hJc1v"
      },
      "execution_count": null,
      "outputs": []
    },
    {
      "cell_type": "markdown",
      "source": [
        "## 3. while 반복문"
      ],
      "metadata": {
        "id": "vLyHMHYHJdXa"
      }
    },
    {
      "cell_type": "markdown",
      "source": [
        "[실습문제] while문을 이용하여 나무 10번 찍어 넘기는 코드"
      ],
      "metadata": {
        "id": "bx8N72e8JpMn"
      }
    },
    {
      "cell_type": "code",
      "source": [
        "treeHit = 0\n",
        "while treeHit < 10:\n",
        "  treeHit += 1\n",
        "  print(f'나무를 {treeHit}번 찍었습니다.')\n",
        "print('나무 넘어 갑니다~')"
      ],
      "metadata": {
        "colab": {
          "base_uri": "https://localhost:8080/"
        },
        "id": "qrNSU9riJgiQ",
        "outputId": "53af12a0-414b-4347-d3ca-49898c391944"
      },
      "execution_count": 10,
      "outputs": [
        {
          "output_type": "stream",
          "name": "stdout",
          "text": [
            "나무를 1번 찍었습니다.\n",
            "나무를 2번 찍었습니다.\n",
            "나무를 3번 찍었습니다.\n",
            "나무를 4번 찍었습니다.\n",
            "나무를 5번 찍었습니다.\n",
            "나무를 6번 찍었습니다.\n",
            "나무를 7번 찍었습니다.\n",
            "나무를 8번 찍었습니다.\n",
            "나무를 9번 찍었습니다.\n",
            "나무를 10번 찍었습니다.\n",
            "나무 넘어 갑니다~\n"
          ]
        }
      ]
    },
    {
      "cell_type": "code",
      "source": [
        "treeHit = 0\n",
        "while True:\n",
        "  treeHit += 1\n",
        "  print(f'나무를 {treeHit}번 찍었습니다.')\n",
        "  if treeHit == 10:\n",
        "    break\n",
        "print('나무 넘어 갑니다~')"
      ],
      "metadata": {
        "colab": {
          "base_uri": "https://localhost:8080/"
        },
        "id": "WyZgV5AUKRAa",
        "outputId": "7b54714f-6b74-4434-c478-a79ef265df36"
      },
      "execution_count": 11,
      "outputs": [
        {
          "output_type": "stream",
          "name": "stdout",
          "text": [
            "나무를 1번 찍었습니다.\n",
            "나무를 2번 찍었습니다.\n",
            "나무를 3번 찍었습니다.\n",
            "나무를 4번 찍었습니다.\n",
            "나무를 5번 찍었습니다.\n",
            "나무를 6번 찍었습니다.\n",
            "나무를 7번 찍었습니다.\n",
            "나무를 8번 찍었습니다.\n",
            "나무를 9번 찍었습니다.\n",
            "나무를 10번 찍었습니다.\n",
            "나무 넘어 갑니다~\n"
          ]
        }
      ]
    },
    {
      "cell_type": "markdown",
      "source": [
        "무한 반복문을 빠져나오기 위한 프로그램을 만들어 보세요."
      ],
      "metadata": {
        "id": "hY118xMeLbM8"
      }
    },
    {
      "cell_type": "code",
      "source": [
        "prompt = \"\"\"\n",
        "  1. Add   2. Del   3. Modify   4. Quit\n",
        "\n",
        "  Enter number: \"\"\"\n",
        "\n",
        "num = ''\n",
        "while num != '4':\n",
        "  num = input(prompt)\n",
        "print('program finish!')"
      ],
      "metadata": {
        "colab": {
          "base_uri": "https://localhost:8080/"
        },
        "id": "IHGW-nSgLBIb",
        "outputId": "358fd880-6577-401b-ef61-656afe8b2947"
      },
      "execution_count": 12,
      "outputs": [
        {
          "output_type": "stream",
          "name": "stdout",
          "text": [
            "\n",
            "  1. Add   2. Del   3. Modify   4. Quit\n",
            "  \n",
            "  Enter number: 2\n",
            "\n",
            "  1. Add   2. Del   3. Modify   4. Quit\n",
            "  \n",
            "  Enter number: 4\n",
            "program finish!\n"
          ]
        }
      ]
    },
    {
      "cell_type": "code",
      "source": [
        "# 무한반복 코드 이용하는 방법\n",
        "prompt = \"\"\"\n",
        "    1.추가  2.삭제  3.수정  4.종료\n",
        "    해당하는 번호를 입력해주세요: \"\"\"\n",
        "num = ''\n",
        "while True:\n",
        "    num = input(prompt)\n",
        "    if num == '4': break\n",
        "print('program finish!')"
      ],
      "metadata": {
        "id": "r5pTe0ZwNzls"
      },
      "execution_count": null,
      "outputs": []
    },
    {
      "cell_type": "markdown",
      "source": [
        "[실습문제] 커피 주문 프로그램  반복문 이용해서 업그레이드 하기"
      ],
      "metadata": {
        "id": "xYxqMjWUNsBr"
      }
    },
    {
      "cell_type": "code",
      "source": [
        "coffee1_price = 2500\n",
        "coffee2_price = 3000\n",
        "coffee3_price = 3000\n",
        "menu = f'''[커피 자동주문 머신 메뉴]\n",
        "------------------------\n",
        "- 아메리카노:  {coffee1_price}원\n",
        "- 카페라떼:    {coffee2_price}원\n",
        "- 카푸치노:    {coffee3_price}원\n",
        "------------------------\n",
        "원하시는 커피종류와 잔수를 입력하세요!\n",
        "'''\n",
        "print(menu)\n",
        "coffee1 = int(input('아메리카노 몇 잔: '))\n",
        "coffee2 = int(input('카페라떼   몇 잔: '))\n",
        "coffee3 = int(input('카푸치노   몇 잔: '))\n",
        "total = coffee1_price * coffee1 + coffee2_price * coffee2 + coffee3_price * coffee3\n",
        "print(f'주문하신 총 가격은 {total}원 입니다.')\n",
        "\n",
        "while True:\n",
        "    money = int(input('돈을 입력해주세요: '))\n",
        "    change = total - money\n",
        "    total = change\n",
        "    if change > 0:\n",
        "        print(f'입력한 금액이 부족합니다.{change}원을 더 넣어주세요.')\n",
        "    else:\n",
        "        print(f'거스름돈은 {abs(change)}원 입니다. 커피 맛있게 드세요~')\n",
        "        break"
      ],
      "metadata": {
        "id": "GHCQHWCJQcKE"
      },
      "execution_count": null,
      "outputs": []
    }
  ]
}