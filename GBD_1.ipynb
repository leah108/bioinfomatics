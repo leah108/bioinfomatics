{
  "nbformat": 4,
  "nbformat_minor": 0,
  "metadata": {
    "colab": {
      "provenance": [],
      "authorship_tag": "ABX9TyOMiVURw0u9GwZbNpdTxylk",
      "include_colab_link": true
    },
    "kernelspec": {
      "name": "python3",
      "display_name": "Python 3"
    },
    "language_info": {
      "name": "python"
    }
  },
  "cells": [
    {
      "cell_type": "markdown",
      "metadata": {
        "id": "view-in-github",
        "colab_type": "text"
      },
      "source": [
        "<a href=\"https://colab.research.google.com/github/leah108/bioinfomatics/blob/main/GBD_1.ipynb\" target=\"_parent\"><img src=\"https://colab.research.google.com/assets/colab-badge.svg\" alt=\"Open In Colab\"/></a>"
      ]
    },
    {
      "cell_type": "markdown",
      "source": [
        "##1. 파이썬 기본 자료형\n"
      ],
      "metadata": {
        "id": "8-eLZ-HWdmCc"
      }
    },
    {
      "cell_type": "code",
      "execution_count": 4,
      "metadata": {
        "colab": {
          "base_uri": "https://localhost:8080/"
        },
        "id": "b1-W-p7pdVhc",
        "outputId": "09f10916-1560-4515-d2a5-11302faeacb7"
      },
      "outputs": [
        {
          "output_type": "stream",
          "name": "stdout",
          "text": [
            "<class 'int'>\n",
            "<class 'float'>\n",
            "<class 'str'>\n"
          ]
        }
      ],
      "source": [
        "# 데이터 형태를 확인해 주는 함수 : type()\n",
        "# 화면에 출력해주는 함수 : print()\n",
        "\n",
        "print(type(100))\n",
        "print(type(100.0))\n",
        "print(type('파이썬'))"
      ]
    },
    {
      "cell_type": "code",
      "source": [
        "# 변수에 값을 지정해서 사용하낟.\n",
        "\n",
        "a = 100\n",
        "b = 50\n",
        "c = '파이썬'\n",
        "\n",
        "print(a + b)\n",
        "print(c)"
      ],
      "metadata": {
        "colab": {
          "base_uri": "https://localhost:8080/"
        },
        "id": "2pwDaDree7bg",
        "outputId": "7f2a39aa-5914-47cc-c5ba-9a76ab6f58c7"
      },
      "execution_count": 6,
      "outputs": [
        {
          "output_type": "stream",
          "name": "stdout",
          "text": [
            "150\n",
            "파이썬\n"
          ]
        }
      ]
    },
    {
      "cell_type": "code",
      "source": [
        "사과 = '수박'\n",
        "\n",
        "print(사과)"
      ],
      "metadata": {
        "colab": {
          "base_uri": "https://localhost:8080/"
        },
        "id": "Wbn7esFhgNmW",
        "outputId": "b0d3c2a6-1ad0-4195-fa5c-3e164c79a807"
      },
      "execution_count": 10,
      "outputs": [
        {
          "output_type": "stream",
          "name": "stdout",
          "text": [
            "수박\n"
          ]
        }
      ]
    },
    {
      "cell_type": "code",
      "source": [
        "a = 3.14\n",
        "b = 314\n",
        "\n",
        "print(int(a))\n",
        "print(float(b))"
      ],
      "metadata": {
        "colab": {
          "base_uri": "https://localhost:8080/"
        },
        "id": "2i7NhShAhGe-",
        "outputId": "6f4d590c-bc7e-4091-e9ff-9d296894bf87"
      },
      "execution_count": 12,
      "outputs": [
        {
          "output_type": "stream",
          "name": "stdout",
          "text": [
            "3\n",
            "314.0\n"
          ]
        }
      ]
    },
    {
      "cell_type": "code",
      "source": [
        "# 숫자형 나눗셈의 결과 자료형은 무조건 float 형이다.\n",
        "\n",
        "print(10 / 3)\n",
        "print(10 / 2)\n",
        "print(type(10/3))\n",
        "print(type(10/2))"
      ],
      "metadata": {
        "colab": {
          "base_uri": "https://localhost:8080/"
        },
        "id": "dWf4v8q8hzra",
        "outputId": "73a11132-90a5-47de-e6f0-e9bad9f0aee0"
      },
      "execution_count": 13,
      "outputs": [
        {
          "output_type": "stream",
          "name": "stdout",
          "text": [
            "3.3333333333333335\n",
            "5.0\n",
            "<class 'float'>\n",
            "<class 'float'>\n"
          ]
        }
      ]
    },
    {
      "cell_type": "code",
      "source": [
        "# 정수끼리 연산은 정수, 실수가 포함되면 실수의 결과 자료형을 갖는다.\n",
        "\n",
        "print(10 * 2)\n",
        "print(type(10*2))\n",
        "print(10.0 * 2)\n",
        "print(type(10.0*2))"
      ],
      "metadata": {
        "colab": {
          "base_uri": "https://localhost:8080/"
        },
        "id": "_rcy7SGzjHGx",
        "outputId": "a6a1a699-1edf-43b9-b98a-7fc76ef18de2"
      },
      "execution_count": 14,
      "outputs": [
        {
          "output_type": "stream",
          "name": "stdout",
          "text": [
            "20\n",
            "<class 'int'>\n",
            "20.0\n",
            "<class 'float'>\n"
          ]
        }
      ]
    },
    {
      "cell_type": "markdown",
      "source": [
        "2. 문자열형"
      ],
      "metadata": {
        "id": "ZPaGXwDMkC-k"
      }
    },
    {
      "cell_type": "code",
      "source": [
        "# + : 문자열을 붙여서 표현한다.\n",
        "print('오늘은' + '파이썬 첫 날!')\n",
        "print('오늘은', '파이썬 첫 날!')"
      ],
      "metadata": {
        "colab": {
          "base_uri": "https://localhost:8080/"
        },
        "id": "1sGiQXOhkM1B",
        "outputId": "c6b45ba6-50b6-482e-aaef-1e27305d0bbb"
      },
      "execution_count": 22,
      "outputs": [
        {
          "output_type": "stream",
          "name": "stdout",
          "text": [
            "오늘은파이썬 첫 날!\n",
            "오늘은 파이썬 첫 날!\n"
          ]
        }
      ]
    },
    {
      "cell_type": "code",
      "source": [
        "# * : 문자열을 반복한다.\n",
        "print('반짝' * 5)\n",
        "print('-' * 50)"
      ],
      "metadata": {
        "colab": {
          "base_uri": "https://localhost:8080/"
        },
        "id": "-qmXNUXepIOr",
        "outputId": "57939554-25ee-4bed-cb30-c4de1b2292d6"
      },
      "execution_count": 25,
      "outputs": [
        {
          "output_type": "stream",
          "name": "stdout",
          "text": [
            "반짝반짝반짝반짝반짝\n",
            "--------------------------------------------------\n"
          ]
        }
      ]
    },
    {
      "cell_type": "markdown",
      "source": [
        "## Bool 타입"
      ],
      "metadata": {
        "id": "zDFLMgE4qdCO"
      }
    },
    {
      "cell_type": "code",
      "source": [
        "# command + / : 드래그하고 누르면 전부 주석처리 됨,,,wow\n",
        "# a = True\n",
        "# b = False\n",
        "# print(a,b)\n",
        "\n",
        "a = 100\n",
        "b = 200\n",
        "print(a > b)"
      ],
      "metadata": {
        "colab": {
          "base_uri": "https://localhost:8080/"
        },
        "id": "hrXOJv7JqgTn",
        "outputId": "fe6d0d7c-a8de-48b2-f7e7-cfde83171b8c"
      },
      "execution_count": 29,
      "outputs": [
        {
          "output_type": "stream",
          "name": "stdout",
          "text": [
            "False\n"
          ]
        }
      ]
    },
    {
      "cell_type": "markdown",
      "source": [
        "## 파이썬 기본 입출력"
      ],
      "metadata": {
        "id": "T24cPq_Ds2cw"
      }
    },
    {
      "cell_type": "code",
      "source": [
        "# 파이썬으로 사칙연산 하기 프로그램\n",
        "a = input('키보드로 입력하세요: ')\n",
        "a = int(a)\n",
        "print('a의 값은: ', a, type(a))"
      ],
      "metadata": {
        "colab": {
          "base_uri": "https://localhost:8080/"
        },
        "id": "hn88CnnEqiyD",
        "outputId": "4c3f7a75-0426-4857-cb77-3e42c586b5ab"
      },
      "execution_count": 35,
      "outputs": [
        {
          "output_type": "stream",
          "name": "stdout",
          "text": [
            "키보드로 입력하세요: 100\n",
            "a의 값은:  100 <class 'int'>\n"
          ]
        }
      ]
    },
    {
      "cell_type": "code",
      "source": [
        "a = int(input('키보드로 입력하세요: '))"
      ],
      "metadata": {
        "colab": {
          "base_uri": "https://localhost:8080/"
        },
        "id": "f396IGEmtCvq",
        "outputId": "186ba3dc-2475-4342-f2d5-d074e91b7421"
      },
      "execution_count": 36,
      "outputs": [
        {
          "name": "stdout",
          "output_type": "stream",
          "text": [
            "키보드로 입력하세요: 100\n"
          ]
        }
      ]
    },
    {
      "cell_type": "code",
      "source": [
        "num1 = int(input('첫 번째 숫자: '))\n",
        "num2 = int(input('두 번째 숫자: '))\n",
        "print('-' * 30)\n",
        "print('덧셈 : %d + %d = %d' % (num1, num2, num1 + num2))\n",
        "print('뺄셈 : %d - %d = %d' % (num1, num2, num1 - num2))\n",
        "print('곱셈 : %d * %d = %d' % (num1, num2, num1 * num2))\n",
        "print('나눗셈 : %d / %d = %d' % (num1, num2, num1 / num2))"
      ],
      "metadata": {
        "colab": {
          "base_uri": "https://localhost:8080/"
        },
        "id": "kNZTSxRbuFDW",
        "outputId": "5e351464-3d76-4826-beaa-73b3f7a6afc6"
      },
      "execution_count": 42,
      "outputs": [
        {
          "output_type": "stream",
          "name": "stdout",
          "text": [
            "첫 번째 숫자: 200\n",
            "두 번째 숫자: 30\n",
            "------------------------------\n",
            "덧셈: 200 + 30 = 230\n"
          ]
        }
      ]
    },
    {
      "cell_type": "code",
      "source": [
        "# 두 수를 입력 받아 덧셈, 뺄셈, 곱셈, 몫, 나머지를 출력하는 프로그램을 작성하세요.\n",
        "\n",
        "num1 = int(input('첫 번째 숫자: '))\n",
        "num2 = int(input('두 번째 숫자: '))\n",
        "print('-' * 30)\n",
        "print(f'덧셈: {num1} + {num2} = {num1 + num2}')\n",
        "print(f'뺄셈: {num1} - {num2:>3} = {num1 - num2}')   #빈칸 넣어 3자리\n",
        "print(f'곱셈: {num1} * {num2:0>3} = {num1 * num2}')  #빈칸에 0 넣어 3자리\n",
        "print(f'나눗셈: {num1} / {num2} = {num1/ num2}')"
      ],
      "metadata": {
        "colab": {
          "base_uri": "https://localhost:8080/"
        },
        "id": "I3AkMEsBuk6W",
        "outputId": "e8f680fd-c5d6-4dc1-dab7-d0301d0d03eb"
      },
      "execution_count": 46,
      "outputs": [
        {
          "output_type": "stream",
          "name": "stdout",
          "text": [
            "첫 번째 숫자: 200\n",
            "두 번째 숫자: 30\n",
            "------------------------------\n",
            "덧셈: 200 + 30 = 230\n",
            "뺄셈: 200 -  30 = 170\n",
            "곱셈: 200 * 030 = 6000\n",
            "나눗셈: 200 / 30 = 6.666666666666667\n"
          ]
        }
      ]
    },
    {
      "cell_type": "code",
      "source": [
        "# 속도와 거리를 입력 받아 시간을 계산하여 출력하는 프로그램을 만드세요.\n",
        "\n",
        "distance = float(input('거리를 입력해주세요: '))\n",
        "velocity = float(input('속도를 입력해주세요: '))\n",
        "print('거리= ', distance)\n",
        "print('속도= ', velocity)\n",
        "print(f'시간(Time) = {distance} / {velocity} = {distance / velocity}')"
      ],
      "metadata": {
        "colab": {
          "base_uri": "https://localhost:8080/"
        },
        "id": "OlWpoTz2xhbB",
        "outputId": "469effb0-6721-4c1b-b092-8ad6f62ae395"
      },
      "execution_count": 50,
      "outputs": [
        {
          "output_type": "stream",
          "name": "stdout",
          "text": [
            "거리를 입력해주세요: 200\n",
            "속도를 입력해주세요: 50\n",
            "속도=  50.0\n",
            "거리=  200.0\n",
            "시간(Time) = 200.0 / 50.0 = 4.0\n"
          ]
        }
      ]
    },
    {
      "cell_type": "code",
      "source": [
        "# 길이와 너비를 입력 받아 면적과 둘레를 계산하여 출력하는 프로그램을 만드세요.\n",
        "\n",
        "a = int(input('길이: '))\n",
        "b = int(input('너비: '))\n",
        "print(f'면적: {a} * {b} = {a*b}')\n",
        "print(f'둘레: {a} * 2 + {b} * 2 = {a*2 + b*2}')\n",
        "\n"
      ],
      "metadata": {
        "colab": {
          "base_uri": "https://localhost:8080/"
        },
        "id": "ipoaqbkbzLk-",
        "outputId": "6bab5e5f-398c-46b9-e51c-f65f80953eaa"
      },
      "execution_count": 51,
      "outputs": [
        {
          "output_type": "stream",
          "name": "stdout",
          "text": [
            "길이: 100\n",
            "너비: 20\n",
            "면적: 100 * 20 = 2000\n",
            "둘레: 100 * 2 + 20 * 2 = 240\n"
          ]
        }
      ]
    },
    {
      "cell_type": "code",
      "source": [
        "# 아래와 같이 정수 a을 입력 받아, a + aa + aaa의 결과 값을 구하는 프로그램을 작성하세요.\n",
        "\n",
        "a = int(input('정수를 입력하세요: '))\n",
        "b = 10*a + a\n",
        "c = 100*a + 10*a + a\n",
        "\n",
        "print(f'{a} + {b} + {c} = {a + b + c}')"
      ],
      "metadata": {
        "colab": {
          "base_uri": "https://localhost:8080/"
        },
        "id": "mfui__0e13xD",
        "outputId": "8d8abd53-e2b7-42e6-8e9a-0d5eabac5883"
      },
      "execution_count": 55,
      "outputs": [
        {
          "output_type": "stream",
          "name": "stdout",
          "text": [
            "정수를 입력하세요: 7\n",
            "7 + 77 + 777 = 861\n"
          ]
        }
      ]
    },
    {
      "cell_type": "code",
      "source": [
        "a = input('정수를 입력하세요: ')\n",
        "b = int(a + a)\n",
        "c = int(a + a + a)\n",
        "\n",
        "print(f'{a} + {b} + {c} = {int(a) + b + c}')"
      ],
      "metadata": {
        "colab": {
          "base_uri": "https://localhost:8080/"
        },
        "id": "psujnWNZ4lGc",
        "outputId": "aaa3dfb4-18d9-455a-d99b-cee4ef66e056"
      },
      "execution_count": 56,
      "outputs": [
        {
          "output_type": "stream",
          "name": "stdout",
          "text": [
            "정수를 입력하세요: 7\n",
            "7 + 77 + 777 = 861\n"
          ]
        }
      ]
    },
    {
      "cell_type": "code",
      "source": [
        "# eval() : 문자열을 숫자처럼 계산해준다.\n",
        "\n",
        "eval('3 + 4')"
      ],
      "metadata": {
        "colab": {
          "base_uri": "https://localhost:8080/"
        },
        "id": "Ye7rsR426T61",
        "outputId": "f181d4f3-5606-4ab1-a9b9-47ea88fab3a6"
      },
      "execution_count": 57,
      "outputs": [
        {
          "output_type": "execute_result",
          "data": {
            "text/plain": [
              "7"
            ]
          },
          "metadata": {},
          "execution_count": 57
        }
      ]
    },
    {
      "cell_type": "code",
      "source": [
        "a = input('정수를 입력하세요: ')\n",
        "result = f'{a} + {a + a} + {a + a + a}'\n",
        "print(f'{result} = {eval(result)}')"
      ],
      "metadata": {
        "colab": {
          "base_uri": "https://localhost:8080/"
        },
        "id": "Ix43h2UC79FU",
        "outputId": "f79d1a41-8cd6-42da-c10c-798bf7ba23c4"
      },
      "execution_count": 60,
      "outputs": [
        {
          "output_type": "stream",
          "name": "stdout",
          "text": [
            "정수를 입력하세요: 7\n",
            "7 + 77 + 777 = 861\n"
          ]
        }
      ]
    },
    {
      "cell_type": "code",
      "source": [],
      "metadata": {
        "id": "VabxIe2m8gbN"
      },
      "execution_count": null,
      "outputs": []
    }
  ]
}